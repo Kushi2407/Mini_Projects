{
 "cells": [
  {
   "cell_type": "markdown",
   "id": "6387fe00",
   "metadata": {},
   "source": [
    "# MINI PROJECT ACTIVITY\n",
    "## PROJECT TITLE: IRIS DATASET [PHASE-2]"
   ]
  },
  {
   "cell_type": "code",
   "execution_count": 6,
   "id": "0711a052",
   "metadata": {},
   "outputs": [],
   "source": [
    "import pandas as pd\n",
    "import seaborn as sns\n",
    "import matplotlib.pyplot as plt\n",
    "from scipy import stats"
   ]
  },
  {
   "cell_type": "code",
   "execution_count": 7,
   "id": "1ca06273",
   "metadata": {},
   "outputs": [
    {
     "data": {
      "text/html": [
       "<div>\n",
       "<style scoped>\n",
       "    .dataframe tbody tr th:only-of-type {\n",
       "        vertical-align: middle;\n",
       "    }\n",
       "\n",
       "    .dataframe tbody tr th {\n",
       "        vertical-align: top;\n",
       "    }\n",
       "\n",
       "    .dataframe thead th {\n",
       "        text-align: right;\n",
       "    }\n",
       "</style>\n",
       "<table border=\"1\" class=\"dataframe\">\n",
       "  <thead>\n",
       "    <tr style=\"text-align: right;\">\n",
       "      <th></th>\n",
       "      <th>sepal_length</th>\n",
       "      <th>sepal_width</th>\n",
       "      <th>petal_length</th>\n",
       "      <th>petal_width</th>\n",
       "      <th>species</th>\n",
       "    </tr>\n",
       "  </thead>\n",
       "  <tbody>\n",
       "    <tr>\n",
       "      <th>0</th>\n",
       "      <td>5.1</td>\n",
       "      <td>3.5</td>\n",
       "      <td>1.4</td>\n",
       "      <td>0.2</td>\n",
       "      <td>setosa</td>\n",
       "    </tr>\n",
       "    <tr>\n",
       "      <th>1</th>\n",
       "      <td>4.9</td>\n",
       "      <td>3.0</td>\n",
       "      <td>1.4</td>\n",
       "      <td>0.2</td>\n",
       "      <td>setosa</td>\n",
       "    </tr>\n",
       "    <tr>\n",
       "      <th>2</th>\n",
       "      <td>4.7</td>\n",
       "      <td>3.2</td>\n",
       "      <td>1.3</td>\n",
       "      <td>0.2</td>\n",
       "      <td>setosa</td>\n",
       "    </tr>\n",
       "    <tr>\n",
       "      <th>3</th>\n",
       "      <td>4.6</td>\n",
       "      <td>3.1</td>\n",
       "      <td>1.5</td>\n",
       "      <td>0.2</td>\n",
       "      <td>setosa</td>\n",
       "    </tr>\n",
       "    <tr>\n",
       "      <th>4</th>\n",
       "      <td>5.0</td>\n",
       "      <td>3.6</td>\n",
       "      <td>1.4</td>\n",
       "      <td>0.2</td>\n",
       "      <td>setosa</td>\n",
       "    </tr>\n",
       "    <tr>\n",
       "      <th>...</th>\n",
       "      <td>...</td>\n",
       "      <td>...</td>\n",
       "      <td>...</td>\n",
       "      <td>...</td>\n",
       "      <td>...</td>\n",
       "    </tr>\n",
       "    <tr>\n",
       "      <th>145</th>\n",
       "      <td>6.7</td>\n",
       "      <td>3.0</td>\n",
       "      <td>5.2</td>\n",
       "      <td>2.3</td>\n",
       "      <td>virginica</td>\n",
       "    </tr>\n",
       "    <tr>\n",
       "      <th>146</th>\n",
       "      <td>6.3</td>\n",
       "      <td>2.5</td>\n",
       "      <td>5.0</td>\n",
       "      <td>1.9</td>\n",
       "      <td>virginica</td>\n",
       "    </tr>\n",
       "    <tr>\n",
       "      <th>147</th>\n",
       "      <td>6.5</td>\n",
       "      <td>3.0</td>\n",
       "      <td>5.2</td>\n",
       "      <td>2.0</td>\n",
       "      <td>virginica</td>\n",
       "    </tr>\n",
       "    <tr>\n",
       "      <th>148</th>\n",
       "      <td>6.2</td>\n",
       "      <td>3.4</td>\n",
       "      <td>5.4</td>\n",
       "      <td>2.3</td>\n",
       "      <td>virginica</td>\n",
       "    </tr>\n",
       "    <tr>\n",
       "      <th>149</th>\n",
       "      <td>5.9</td>\n",
       "      <td>3.0</td>\n",
       "      <td>5.1</td>\n",
       "      <td>1.8</td>\n",
       "      <td>virginica</td>\n",
       "    </tr>\n",
       "  </tbody>\n",
       "</table>\n",
       "<p>150 rows × 5 columns</p>\n",
       "</div>"
      ],
      "text/plain": [
       "     sepal_length  sepal_width  petal_length  petal_width    species\n",
       "0             5.1          3.5           1.4          0.2     setosa\n",
       "1             4.9          3.0           1.4          0.2     setosa\n",
       "2             4.7          3.2           1.3          0.2     setosa\n",
       "3             4.6          3.1           1.5          0.2     setosa\n",
       "4             5.0          3.6           1.4          0.2     setosa\n",
       "..            ...          ...           ...          ...        ...\n",
       "145           6.7          3.0           5.2          2.3  virginica\n",
       "146           6.3          2.5           5.0          1.9  virginica\n",
       "147           6.5          3.0           5.2          2.0  virginica\n",
       "148           6.2          3.4           5.4          2.3  virginica\n",
       "149           5.9          3.0           5.1          1.8  virginica\n",
       "\n",
       "[150 rows x 5 columns]"
      ]
     },
     "execution_count": 7,
     "metadata": {},
     "output_type": "execute_result"
    }
   ],
   "source": [
    "df=pd.read_csv('C:/iris.csv')\n",
    "df"
   ]
  },
  {
   "cell_type": "markdown",
   "id": "b5b50a2b",
   "metadata": {},
   "source": [
    "# 1. Frame 10 Questions on Probability & Statistics"
   ]
  },
  {
   "cell_type": "markdown",
   "id": "e5032c66",
   "metadata": {},
   "source": [
    "## 1. What is the distribution of sepal length in the Iris dataset?"
   ]
  },
  {
   "cell_type": "code",
   "execution_count": 8,
   "id": "d747f4f9",
   "metadata": {},
   "outputs": [
    {
     "name": "stdout",
     "output_type": "stream",
     "text": [
      "1. Sepal Length Distribution:\n",
      "count    150.000000\n",
      "mean       5.843333\n",
      "std        0.828066\n",
      "min        4.300000\n",
      "25%        5.100000\n",
      "50%        5.800000\n",
      "75%        6.400000\n",
      "max        7.900000\n",
      "Name: sepal_length, dtype: float64\n"
     ]
    }
   ],
   "source": [
    "# 1. Distribution of sepal length\n",
    "sepal_length_distribution = df['sepal_length'].describe()\n",
    "print(\"1. Sepal Length Distribution:\")\n",
    "print(sepal_length_distribution)"
   ]
  },
  {
   "cell_type": "markdown",
   "id": "342240e8",
   "metadata": {},
   "source": [
    "## 2. What are the mean, median, and mode of petal width for each species in the dataset?"
   ]
  },
  {
   "cell_type": "code",
   "execution_count": 9,
   "id": "e5d66c0c",
   "metadata": {},
   "outputs": [
    {
     "name": "stdout",
     "output_type": "stream",
     "text": [
      "\n",
      "2. Mean, Median, Mode of Petal Width for Each Species:\n",
      "             mean  median  <lambda_0>\n",
      "species                              \n",
      "setosa      0.244     0.2         0.2\n",
      "versicolor  1.326     1.3         1.3\n",
      "virginica   2.026     2.0         1.8\n"
     ]
    },
    {
     "name": "stderr",
     "output_type": "stream",
     "text": [
      "C:\\Users\\Admin\\AppData\\Local\\Temp\\ipykernel_7188\\1508564183.py:2: FutureWarning: Unlike other reduction functions (e.g. `skew`, `kurtosis`), the default behavior of `mode` typically preserves the axis it acts along. In SciPy 1.11.0, this behavior will change: the default value of `keepdims` will become False, the `axis` over which the statistic is taken will be eliminated, and the value None will no longer be accepted. Set `keepdims` to True or False to avoid this warning.\n",
      "  petal_width_stats = df.groupby('species')['petal_width'].agg(['mean', 'median', lambda x: stats.mode(x)[0][0]])\n"
     ]
    }
   ],
   "source": [
    "# 2. Mean, median, mode of petal width for each species\n",
    "petal_width_stats = df.groupby('species')['petal_width'].agg(['mean', 'median', lambda x: stats.mode(x)[0][0]])\n",
    "print(\"\\n2. Mean, Median, Mode of Petal Width for Each Species:\")\n",
    "print(petal_width_stats)\n"
   ]
  },
  {
   "cell_type": "markdown",
   "id": "ef61f58d",
   "metadata": {},
   "source": [
    "## 3. Can you calculate the standard deviation of sepal length for all the samples?"
   ]
  },
  {
   "cell_type": "code",
   "execution_count": 10,
   "id": "b5534011",
   "metadata": {},
   "outputs": [
    {
     "name": "stdout",
     "output_type": "stream",
     "text": [
      "\n",
      "3. Standard Deviation of Sepal Length: 0.8280661279778629\n"
     ]
    }
   ],
   "source": [
    "# 3. Standard deviation of sepal length\n",
    "sepal_length_std = df['sepal_length'].std()\n",
    "print(\"\\n3. Standard Deviation of Sepal Length:\", sepal_length_std)"
   ]
  },
  {
   "cell_type": "markdown",
   "id": "21381b6f",
   "metadata": {},
   "source": [
    "## 4. How does the distribution of sepal width differ between the three species?"
   ]
  },
  {
   "cell_type": "code",
   "execution_count": 11,
   "id": "1a4fef34",
   "metadata": {},
   "outputs": [
    {
     "name": "stdout",
     "output_type": "stream",
     "text": [
      "\n",
      "4. Sepal Width Distribution for Each Species:\n",
      "            count   mean       std  min    25%  50%    75%  max\n",
      "species                                                        \n",
      "setosa       50.0  3.418  0.381024  2.3  3.125  3.4  3.675  4.4\n",
      "versicolor   50.0  2.770  0.313798  2.0  2.525  2.8  3.000  3.4\n",
      "virginica    50.0  2.974  0.322497  2.2  2.800  3.0  3.175  3.8\n"
     ]
    }
   ],
   "source": [
    "# 4. Difference in sepal width distribution between species\n",
    "sepal_width_species = df.groupby('species')['sepal_width'].describe()\n",
    "print(\"\\n4. Sepal Width Distribution for Each Species:\")\n",
    "print(sepal_width_species)"
   ]
  },
  {
   "cell_type": "markdown",
   "id": "45068da4",
   "metadata": {},
   "source": [
    "## 5. What is the correlation between petal length and petal width for the entire dataset?"
   ]
  },
  {
   "cell_type": "code",
   "execution_count": 12,
   "id": "53ca22a9",
   "metadata": {
    "scrolled": true
   },
   "outputs": [
    {
     "name": "stdout",
     "output_type": "stream",
     "text": [
      "\n",
      "5. Correlation between Petal Length and Petal Width: 0.9627570970509663\n"
     ]
    }
   ],
   "source": [
    "# 5. Correlation between petal length and petal width\n",
    "correlation = df['petal_length'].corr(df[('petal_width')])\n",
    "print(\"\\n5. Correlation between Petal Length and Petal Width:\", correlation)\n"
   ]
  },
  {
   "cell_type": "markdown",
   "id": "9453b15f",
   "metadata": {},
   "source": [
    "## 6. Can you calculate the 95% confidence interval for the sepal length of the \"setosa\" species?"
   ]
  },
  {
   "cell_type": "code",
   "execution_count": 13,
   "id": "1d261ee8",
   "metadata": {},
   "outputs": [
    {
     "name": "stdout",
     "output_type": "stream",
     "text": [
      "\n",
      "6. 95% Confidence Interval for Sepal Length of Setosa Species:\n",
      "(4.315132908139847, 5.696867091860153)\n"
     ]
    }
   ],
   "source": [
    "# 6. Confidence interval for sepal length of \"setosa\" species\n",
    "setosa_sepal_length = df[df['species'] == 'setosa']['sepal_length']\n",
    "confidence_interval = stats.norm.interval(0.95, loc=setosa_sepal_length.mean(), scale=setosa_sepal_length.std())\n",
    "print(\"\\n6. 95% Confidence Interval for Sepal Length of Setosa Species:\")\n",
    "print(confidence_interval)"
   ]
  },
  {
   "cell_type": "markdown",
   "id": "80358285",
   "metadata": {},
   "source": [
    "## 7. Are there any outliers in the dataset, and if so, which feature(s) do they affect the most?"
   ]
  },
  {
   "cell_type": "code",
   "execution_count": 14,
   "id": "852891d2",
   "metadata": {},
   "outputs": [
    {
     "name": "stdout",
     "output_type": "stream",
     "text": [
      "Outliers in Sepal Length:\n",
      "Empty DataFrame\n",
      "Columns: [sepal_length, sepal_width, petal_length, petal_width, species]\n",
      "Index: []\n",
      "\n",
      "DataFrame with Outliers Removed:\n",
      "     sepal_length  sepal_width  petal_length  petal_width    species\n",
      "0             5.1          3.5           1.4          0.2     setosa\n",
      "1             4.9          3.0           1.4          0.2     setosa\n",
      "2             4.7          3.2           1.3          0.2     setosa\n",
      "3             4.6          3.1           1.5          0.2     setosa\n",
      "4             5.0          3.6           1.4          0.2     setosa\n",
      "..            ...          ...           ...          ...        ...\n",
      "145           6.7          3.0           5.2          2.3  virginica\n",
      "146           6.3          2.5           5.0          1.9  virginica\n",
      "147           6.5          3.0           5.2          2.0  virginica\n",
      "148           6.2          3.4           5.4          2.3  virginica\n",
      "149           5.9          3.0           5.1          1.8  virginica\n",
      "\n",
      "[150 rows x 5 columns]\n"
     ]
    }
   ],
   "source": [
    "import pandas as pd\n",
    "\n",
    "\n",
    "# Load the Iris dataset\n",
    "df=pd.read_csv('C:/iris.csv')\n",
    "df\n",
    "\n",
    "\n",
    "# Calculate the IQR (Interquartile Range)\n",
    "q1 = df['sepal_length'].quantile(0.25)\n",
    "q3 = df['sepal_length'].quantile(0.75)\n",
    "iqr = q3 - q1\n",
    "\n",
    "# Define the lower and upper bounds for outliers\n",
    "lower_bound = q1 - 1.5 * iqr\n",
    "upper_bound = q3 + 1.5 * iqr\n",
    "\n",
    "# Identify and remove outliers\n",
    "outliers_removed = df[(df['sepal_length'] >= lower_bound) & (df['sepal_length'] <= upper_bound)]\n",
    "\n",
    "# Display the rows with outliers (if any)\n",
    "outliers = df[~((df['sepal_length'] >= lower_bound) & (df['sepal_length'] <= upper_bound))]\n",
    "\n",
    "print(\"Outliers in Sepal Length:\")\n",
    "print(outliers)\n",
    "\n",
    "# Display the DataFrame with outliers removed\n",
    "print(\"\\nDataFrame with Outliers Removed:\")\n",
    "print(outliers_removed)\n",
    "\n"
   ]
  },
  {
   "cell_type": "markdown",
   "id": "69cf244b",
   "metadata": {},
   "source": [
    "## 8. Is there a statistically significant difference in sepal length between the \"setosa\" and \"versicolor\" species?"
   ]
  },
  {
   "cell_type": "code",
   "execution_count": 15,
   "id": "8993d86b",
   "metadata": {},
   "outputs": [
    {
     "name": "stdout",
     "output_type": "stream",
     "text": [
      "\n",
      "8. T-test Results for Sepal Length between Setosa and Versicolor:\n",
      "T-statistic: -10.52098626754911\n"
     ]
    }
   ],
   "source": [
    "# 8. Perform a t-test to compare sepal length between \"setosa\" and \"versicolor\"\n",
    "setosa_sepal_length = df[df['species'] == 'setosa']['sepal_length']\n",
    "versicolor_sepal_length = df[df['species'] == 'versicolor']['sepal_length']\n",
    "t_stat, p_value = stats.ttest_ind(setosa_sepal_length, versicolor_sepal_length)\n",
    "print(\"\\n8. T-test Results for Sepal Length between Setosa and Versicolor:\")\n",
    "print(\"T-statistic:\", t_stat)\n"
   ]
  },
  {
   "cell_type": "markdown",
   "id": "2a39a36f",
   "metadata": {},
   "source": [
    "## 9. What is the probability distribution of petal length for the \"virginica\" species?"
   ]
  },
  {
   "cell_type": "code",
   "execution_count": 16,
   "id": "4d169a1f",
   "metadata": {},
   "outputs": [
    {
     "name": "stdout",
     "output_type": "stream",
     "text": [
      "P-value: 8.985235037487079e-18\n",
      "\n",
      "9. Probability Distribution of Petal Length for Virginica:\n",
      "100    6.0\n",
      "101    5.1\n",
      "102    5.9\n",
      "103    5.6\n",
      "104    5.8\n",
      "105    6.6\n",
      "106    4.5\n",
      "107    6.3\n",
      "108    5.8\n",
      "109    6.1\n",
      "110    5.1\n",
      "111    5.3\n",
      "112    5.5\n",
      "113    5.0\n",
      "114    5.1\n",
      "115    5.3\n",
      "116    5.5\n",
      "117    6.7\n",
      "118    6.9\n",
      "119    5.0\n",
      "120    5.7\n",
      "121    4.9\n",
      "122    6.7\n",
      "123    4.9\n",
      "124    5.7\n",
      "125    6.0\n",
      "126    4.8\n",
      "127    4.9\n",
      "128    5.6\n",
      "129    5.8\n",
      "130    6.1\n",
      "131    6.4\n",
      "132    5.6\n",
      "133    5.1\n",
      "134    5.6\n",
      "135    6.1\n",
      "136    5.6\n",
      "137    5.5\n",
      "138    4.8\n",
      "139    5.4\n",
      "140    5.6\n",
      "141    5.1\n",
      "142    5.1\n",
      "143    5.9\n",
      "144    5.7\n",
      "145    5.2\n",
      "146    5.0\n",
      "147    5.2\n",
      "148    5.4\n",
      "149    5.1\n",
      "Name: petal_length, dtype: float64\n"
     ]
    }
   ],
   "source": [
    "# 9. Probability distribution of petal length for \"virginica\"\n",
    "virginica_petal_length = df[df['species'] == 'virginica']['petal_length']\n",
    "print(\"P-value:\", p_value)\n",
    "print(\"\\n9. Probability Distribution of Petal Length for Virginica:\")\n",
    "print(virginica_petal_length)"
   ]
  },
  {
   "cell_type": "markdown",
   "id": "b9274b9c",
   "metadata": {},
   "source": [
    "## 10. How can you perform dimensionality reduction or clustering analysis to better understand the relationships between the three species based on the available features?"
   ]
  },
  {
   "cell_type": "code",
   "execution_count": 17,
   "id": "f5238a7f",
   "metadata": {},
   "outputs": [
    {
     "name": "stderr",
     "output_type": "stream",
     "text": [
      "C:\\Users\\Admin\\anaconda3\\Lib\\site-packages\\sklearn\\cluster\\_kmeans.py:1412: FutureWarning: The default value of `n_init` will change from 10 to 'auto' in 1.4. Set the value of `n_init` explicitly to suppress the warning\n",
      "  super()._check_params_vs_input(X, default_n_init=10)\n",
      "C:\\Users\\Admin\\anaconda3\\Lib\\site-packages\\sklearn\\cluster\\_kmeans.py:1436: UserWarning: KMeans is known to have a memory leak on Windows with MKL, when there are less chunks than available threads. You can avoid it by setting the environment variable OMP_NUM_THREADS=1.\n",
      "  warnings.warn(\n"
     ]
    },
    {
     "data": {
      "image/png": "[encoded data removed]",
      "text/plain": [
       "<Figure size 640x480 with 1 Axes>"
      ]
     },
     "metadata": {},
     "output_type": "display_data"
    }
   ],
   "source": [
    "import pandas as pd\n",
    "from sklearn import datasets\n",
    "from sklearn.decomposition import PCA\n",
    "from sklearn.cluster import KMeans\n",
    "import matplotlib.pyplot as plt\n",
    "\n",
    "# Load the Iris dataset\n",
    "iris = datasets.load_iris()\n",
    "data = pd.DataFrame(data=iris.data, columns=iris.feature_names)\n",
    "\n",
    "# Step 1: Perform Principal Component Analysis (PCA) for Dimensionality Reduction\n",
    "\n",
    "# Instantiate the PCA model\n",
    "pca = PCA(n_components=2)  # Reduce to 2 principal components\n",
    "\n",
    "# Fit and transform the data to the reduced space\n",
    "data_pca = pca.fit_transform(data)\n",
    "\n",
    "# Step 2: Perform K-means Clustering\n",
    "\n",
    "# Instantiate the K-means model\n",
    "kmeans = KMeans(n_clusters=3, random_state=0)  # We know there are three species\n",
    "\n",
    "# Fit the K-means model to the PCA-transformed data\n",
    "kmeans.fit(data_pca)\n",
    "\n",
    "# Get cluster labels assigned by K-means\n",
    "labels = kmeans.labels_\n",
    "\n",
    "# Step 3: Visualize the Results\n",
    "\n",
    "# Create a scatter plot to visualize the clustering results\n",
    "plt.scatter(data_pca[:, 0], data_pca[:, 1], c=labels, cmap='viridis')\n",
    "plt.xlabel('Principal Component 1')\n",
    "plt.ylabel('Principal Component 2')\n",
    "plt.title('K-means Clustering on PCA-reduced Data')\n",
    "plt.show()\n"
   ]
  },
  {
   "cell_type": "markdown",
   "id": "cbae3ed8",
   "metadata": {},
   "source": [
    "# 2.  Dispersion for the parameters"
   ]
  },
  {
   "cell_type": "code",
   "execution_count": 18,
   "id": "18ab7706",
   "metadata": {},
   "outputs": [
    {
     "data": {
      "text/html": [
       "<div>\n",
       "<style scoped>\n",
       "    .dataframe tbody tr th:only-of-type {\n",
       "        vertical-align: middle;\n",
       "    }\n",
       "\n",
       "    .dataframe tbody tr th {\n",
       "        vertical-align: top;\n",
       "    }\n",
       "\n",
       "    .dataframe thead th {\n",
       "        text-align: right;\n",
       "    }\n",
       "</style>\n",
       "<table border=\"1\" class=\"dataframe\">\n",
       "  <thead>\n",
       "    <tr style=\"text-align: right;\">\n",
       "      <th></th>\n",
       "      <th>sepal_length</th>\n",
       "      <th>sepal_width</th>\n",
       "      <th>petal_length</th>\n",
       "      <th>petal_width</th>\n",
       "    </tr>\n",
       "  </thead>\n",
       "  <tbody>\n",
       "    <tr>\n",
       "      <th>count</th>\n",
       "      <td>150.000000</td>\n",
       "      <td>150.000000</td>\n",
       "      <td>150.000000</td>\n",
       "      <td>150.000000</td>\n",
       "    </tr>\n",
       "    <tr>\n",
       "      <th>mean</th>\n",
       "      <td>5.843333</td>\n",
       "      <td>3.054000</td>\n",
       "      <td>3.758667</td>\n",
       "      <td>1.198667</td>\n",
       "    </tr>\n",
       "    <tr>\n",
       "      <th>std</th>\n",
       "      <td>0.828066</td>\n",
       "      <td>0.433594</td>\n",
       "      <td>1.764420</td>\n",
       "      <td>0.763161</td>\n",
       "    </tr>\n",
       "    <tr>\n",
       "      <th>min</th>\n",
       "      <td>4.300000</td>\n",
       "      <td>2.000000</td>\n",
       "      <td>1.000000</td>\n",
       "      <td>0.100000</td>\n",
       "    </tr>\n",
       "    <tr>\n",
       "      <th>25%</th>\n",
       "      <td>5.100000</td>\n",
       "      <td>2.800000</td>\n",
       "      <td>1.600000</td>\n",
       "      <td>0.300000</td>\n",
       "    </tr>\n",
       "    <tr>\n",
       "      <th>50%</th>\n",
       "      <td>5.800000</td>\n",
       "      <td>3.000000</td>\n",
       "      <td>4.350000</td>\n",
       "      <td>1.300000</td>\n",
       "    </tr>\n",
       "    <tr>\n",
       "      <th>75%</th>\n",
       "      <td>6.400000</td>\n",
       "      <td>3.300000</td>\n",
       "      <td>5.100000</td>\n",
       "      <td>1.800000</td>\n",
       "    </tr>\n",
       "    <tr>\n",
       "      <th>max</th>\n",
       "      <td>7.900000</td>\n",
       "      <td>4.400000</td>\n",
       "      <td>6.900000</td>\n",
       "      <td>2.500000</td>\n",
       "    </tr>\n",
       "  </tbody>\n",
       "</table>\n",
       "</div>"
      ],
      "text/plain": [
       "       sepal_length  sepal_width  petal_length  petal_width\n",
       "count    150.000000   150.000000    150.000000   150.000000\n",
       "mean       5.843333     3.054000      3.758667     1.198667\n",
       "std        0.828066     0.433594      1.764420     0.763161\n",
       "min        4.300000     2.000000      1.000000     0.100000\n",
       "25%        5.100000     2.800000      1.600000     0.300000\n",
       "50%        5.800000     3.000000      4.350000     1.300000\n",
       "75%        6.400000     3.300000      5.100000     1.800000\n",
       "max        7.900000     4.400000      6.900000     2.500000"
      ]
     },
     "execution_count": 18,
     "metadata": {},
     "output_type": "execute_result"
    }
   ],
   "source": [
    "# 1. Dispersion for the parameters\n",
    "parameter_dispersion = df.describe()\n",
    "parameter_dispersion"
   ]
  },
  {
   "cell_type": "markdown",
   "id": "f40fcd02",
   "metadata": {},
   "source": [
    "# 3. Data distribution"
   ]
  },
  {
   "cell_type": "code",
   "execution_count": 19,
   "id": "b9281b06",
   "metadata": {},
   "outputs": [
    {
     "data": {
      "text/plain": [
       "setosa        50\n",
       "versicolor    50\n",
       "virginica     50\n",
       "Name: species, dtype: int64"
      ]
     },
     "execution_count": 19,
     "metadata": {},
     "output_type": "execute_result"
    }
   ],
   "source": [
    "# 2. Data distribution\n",
    "df_distribution = df['species'].value_counts()\n",
    "df_distribution"
   ]
  },
  {
   "cell_type": "markdown",
   "id": "db40b4a6",
   "metadata": {},
   "source": [
    "# 4. Visualize above with Distribution, Histogram & Scatter Plots"
   ]
  },
  {
   "cell_type": "markdown",
   "id": "2996e81e",
   "metadata": {},
   "source": [
    "## Countplot"
   ]
  },
  {
   "cell_type": "code",
   "execution_count": 20,
   "id": "021fb830",
   "metadata": {},
   "outputs": [
    {
     "data": {
      "image/png": "[encoded data removed]",
      "text/plain": [
       "<Figure size 640x480 with 1 Axes>"
      ]
     },
     "metadata": {},
     "output_type": "display_data"
    }
   ],
   "source": [
    "# 3. Visualize with Distribution, Histogram, and Scatter Plots\n",
    "\n",
    "# Distribution (Count) of Species\n",
    "sns.countplot(data=df, x='species')\n",
    "plt.title(\"Distribution of Species\")\n",
    "plt.show()"
   ]
  },
  {
   "cell_type": "markdown",
   "id": "5068a58f",
   "metadata": {},
   "source": [
    "## Histogram"
   ]
  },
  {
   "cell_type": "code",
   "execution_count": 21,
   "id": "63b705ce",
   "metadata": {},
   "outputs": [
    {
     "data": {
      "image/png": "[encoded data removed]",
      "text/plain": [
       "<Figure size 640x480 with 1 Axes>"
      ]
     },
     "metadata": {},
     "output_type": "display_data"
    }
   ],
   "source": [
    "# Histogram for Sepal Length\n",
    "sns.histplot(data=df, x='sepal_length', bins=20)\n",
    "plt.title(\"Histogram of Sepal Length\")\n",
    "plt.show()"
   ]
  },
  {
   "cell_type": "markdown",
   "id": "35d60fc9",
   "metadata": {},
   "source": [
    "## Scatter Plot"
   ]
  },
  {
   "cell_type": "code",
   "execution_count": 22,
   "id": "1360a321",
   "metadata": {},
   "outputs": [
    {
     "data": {
      "image/png": "[encoded data removed]",
      "text/plain": [
       "<Figure size 640x480 with 1 Axes>"
      ]
     },
     "metadata": {},
     "output_type": "display_data"
    }
   ],
   "source": [
    "# Scatter Plot for Sepal Length vs Sepal Width\n",
    "sns.scatterplot(data=df, x='sepal_length', y='sepal_width', hue='species')\n",
    "plt.title(\"Scatter Plot of Sepal Length vs Sepal Width\")\n",
    "plt.show()"
   ]
  },
  {
   "cell_type": "markdown",
   "id": "c55eb0ad",
   "metadata": {},
   "source": [
    "# 5. Test statistic"
   ]
  },
  {
   "cell_type": "code",
   "execution_count": 23,
   "id": "9be2fea9",
   "metadata": {},
   "outputs": [
    {
     "name": "stdout",
     "output_type": "stream",
     "text": [
      "T-statistic: -39.46866259397272\n",
      "P-value: 5.717463758170621e-62\n",
      "Reject the null hypothesis - There is a significant difference between setosa and versicolor petal lengths.\n"
     ]
    }
   ],
   "source": [
    "# 4. Test statistic\n",
    "# For demonstration, let's perform a t-test on petal length for setosa and versicolor species.\n",
    "setosa_petal_length = df[df['species'] == 'setosa']['petal_length']\n",
    "versicolor_petal_length = df[df['species'] == 'versicolor']['petal_length']\n",
    "t_statistic, p_value = stats.ttest_ind(setosa_petal_length, versicolor_petal_length)\n",
    "\n",
    "# 5. Test type\n",
    "# We performed a t-test in the previous step.\n",
    "\n",
    "# 6. Interpreting test statistics\n",
    "if p_value < 0.05:\n",
    "    interpretation = \"Reject the null hypothesis - There is a significant difference between setosa and versicolor petal lengths.\"\n",
    "else:\n",
    "    interpretation = \"Fail to reject the null hypothesis - There is no significant difference between setosa and versicolor petal lengths.\"\n",
    "\n",
    "print(\"T-statistic:\", t_statistic)\n",
    "print(\"P-value:\", p_value)\n",
    "print(interpretation)\n"
   ]
  },
  {
   "cell_type": "markdown",
   "id": "e0b9db4c",
   "metadata": {},
   "source": [
    "# 6. Test type (T-test, Z-test, F-test, ANNOVA, Chi-Square, PCA)"
   ]
  },
  {
   "cell_type": "code",
   "execution_count": 24,
   "id": "b0617611",
   "metadata": {},
   "outputs": [
    {
     "name": "stdout",
     "output_type": "stream",
     "text": [
      "T-test Interpretation: There is a significant difference in sepal length between setosa and versicolor.\n"
     ]
    }
   ],
   "source": [
    "# 1. Test type: T-test\n",
    "# We will perform a t-test to compare sepal length between setosa and versicolor species.\n",
    "\n",
    "from scipy.stats import ttest_ind, f_oneway, chi2_contingency\n",
    "setosa_sepal_length = df[df['species'] == 'setosa']['sepal_length']\n",
    "versicolor_sepal_length = df[df['species'] == 'versicolor']['sepal_length']\n",
    "\n",
    "t_statistic, p_value = ttest_ind(setosa_sepal_length, versicolor_sepal_length)\n",
    "\n",
    "# Interpretation for T-test\n",
    "if p_value < 0.05:\n",
    "    t_test_interpretation = \"There is a significant difference in sepal length between setosa and versicolor.\"\n",
    "else:\n",
    "    t_test_interpretation = \"There is no significant difference in sepal length between setosa and versicolor.\"\n",
    "print(\"T-test Interpretation:\", t_test_interpretation)\n",
    "\n",
    "   \n"
   ]
  },
  {
   "cell_type": "code",
   "execution_count": 25,
   "id": "bac4489a",
   "metadata": {},
   "outputs": [
    {
     "name": "stdout",
     "output_type": "stream",
     "text": [
      "ANOVA Interpretation: There is a significant difference in petal lengths among the three species.\n"
     ]
    }
   ],
   "source": [
    " # 2. Test type: F-test (ANOVA)\n",
    "# We will perform an ANOVA to compare petal length among all three species.\n",
    "\n",
    "setosa_petal_length = df[df['species'] == 'setosa']['petal_length']\n",
    "versicolor_petal_length = df[df['species'] == 'versicolor']['petal_length']\n",
    "virginica_petal_length = df[df['species'] == 'virginica']['petal_length']\n",
    "\n",
    "f_statistic, f_p_value = f_oneway(setosa_petal_length, versicolor_petal_length, virginica_petal_length)\n",
    "\n",
    "# Interpretation for ANOVA\n",
    "if f_p_value < 0.05:\n",
    "    anova_interpretation = \"There is a significant difference in petal lengths among the three species.\"\n",
    "else:\n",
    "    anova_interpretation = \"There is no significant difference in petal lengths among the three species.\"\n",
    "print(\"ANOVA Interpretation:\", anova_interpretation)\n",
    "\n",
    "    "
   ]
  },
  {
   "cell_type": "code",
   "execution_count": 26,
   "id": "31efd3b8",
   "metadata": {},
   "outputs": [
    {
     "name": "stdout",
     "output_type": "stream",
     "text": [
      "Z-statistic: 0.08485281374238891\n",
      "P-value: 0.932378405606689\n"
     ]
    }
   ],
   "source": [
    " # 2. Test type: Z-test\n",
    "# Define the known population standard deviation\n",
    "population_std = 0.5  # You should replace this with the actual population standard deviation\n",
    "\n",
    "# Extract the sepal length of the setosa species\n",
    "setosa_sepal_length = df[df['species'] == 'setosa']['sepal_length']\n",
    "\n",
    "# Define the hypothesized population mean for comparison\n",
    "hypothesized_mean = 5.0  # Replace with the hypothesized population mean\n",
    "\n",
    "# Perform the Z-test\n",
    "z_statistic = (setosa_sepal_length.mean() - hypothesized_mean) / (population_std / (len(setosa_sepal_length) ** 0.5))\n",
    "p_value = 2 * (1 - stats.norm.cdf(abs(z_statistic)))\n",
    "\n",
    "# Significance level (alpha)\n",
    "alpha = 0.05\n",
    "\n",
    "# Interpretation of Z-test\n",
    "if p_value < alpha:\n",
    "    interpretation = \"Reject the null hypothesis. There is a significant difference between setosa sepal length and the hypothesized population mean.\"\n",
    "else:\n",
    "    interpretation = \"Fail to reject the null hypothesis. There is no significant difference between setosa sepal length and the hypothesized population mean.\"\n",
    "\n",
    "print(\"Z-statistic:\", z_statistic)\n",
    "print(\"P-value:\", p_value)\n",
    "\n"
   ]
  },
  {
   "cell_type": "code",
   "execution_count": 27,
   "id": "bed7e82e",
   "metadata": {},
   "outputs": [
    {
     "name": "stdout",
     "output_type": "stream",
     "text": [
      "Chi-Square Interpretation: There is a significant relationship between sepal length and species.\n"
     ]
    }
   ],
   "source": [
    "# 3. Test type: Chi-Square test\n",
    "# We will perform a Chi-Square test to examine the relationship between sepal length and species.\n",
    "\n",
    "# Creating a contingency table\n",
    "contingency_table = pd.crosstab(df['species'], pd.cut(df['sepal_length'], bins=[4, 5, 6, 7, 8]))\n",
    "\n",
    "chi2, chi2_p, _, _ = chi2_contingency(contingency_table)\n",
    "\n",
    "# Interpretation for Chi-Square test\n",
    "if chi2_p < 0.05:\n",
    "    chi2_interpretation = \"There is a significant relationship between sepal length and species.\"\n",
    "else:\n",
    "    chi2_interpretation = \"There is no significant relationship between sepal length and species.\"\n",
    "print(\"Chi-Square Interpretation:\", chi2_interpretation)\n"
   ]
  },
  {
   "cell_type": "code",
   "execution_count": 28,
   "id": "90761b01",
   "metadata": {},
   "outputs": [
    {
     "name": "stdout",
     "output_type": "stream",
     "text": [
      "Explained Variance Ratio (PCA): [0.92464061 0.06046599 0.0148934 ]\n"
     ]
    }
   ],
   "source": [
    "# 4. Test type: Principal Component Analysis (PCA)\n",
    "# We will perform PCA to reduce the dimensionality of the dataset and analyze variance explained.\n",
    "\n",
    "# Separate features from labels\n",
    "X = data.iloc[:, :-1]\n",
    "\n",
    "# Instantiate and fit the PCA model\n",
    "pca = PCA()\n",
    "pca.fit(X)\n",
    "\n",
    "# Explained variance ratio for each principal component\n",
    "explained_variance_ratio = pca.explained_variance_ratio_\n",
    "\n",
    "# Interpretation for PCA\n",
    "# Analyze the explained variance to understand how much information is retained.\n",
    "print(\"Explained Variance Ratio (PCA):\", explained_variance_ratio)\n"
   ]
  },
  {
   "cell_type": "markdown",
   "id": "567e5128",
   "metadata": {},
   "source": [
    "## 7. Interpreting test statistics"
   ]
  },
  {
   "cell_type": "code",
   "execution_count": 30,
   "id": "15b115b0",
   "metadata": {},
   "outputs": [
    {
     "name": "stdout",
     "output_type": "stream",
     "text": [
      "T-statistic: -39.46866259397272\n",
      "P-value: 5.717463758170621e-62\n",
      "Reject the null hypothesis - There is a significant difference between setosa and versicolor petal lengths.\n"
     ]
    }
   ],
   "source": [
    "# 6. Interpreting test statistics\n",
    "from scipy.stats import ttest_ind, f_oneway\n",
    "t_statistic, p_value = ttest_ind(setosa_petal_length, versicolor_petal_length)\n",
    "if p_value < 0.05:\n",
    "    interpretation = \"Reject the null hypothesis - There is a significant difference between setosa and versicolor petal lengths.\"\n",
    "else:\n",
    "    interpretation = \"Fail to reject the null hypothesis - There is no significant difference between setosa and versicolor petal lengths.\"\n",
    "\n",
    "print(\"T-statistic:\", t_statistic)\n",
    "print(\"P-value:\", p_value)\n",
    "print(interpretation)"
   ]
  }
 ],
 "metadata": {
  "kernelspec": {
   "display_name": "Python 3 (ipykernel)",
   "language": "python",
   "name": "python3"
  },
  "language_info": {
   "codemirror_mode": {
    "name": "ipython",
    "version": 3
   },
   "file_extension": ".py",
   "mimetype": "text/x-python",
   "name": "python",
   "nbconvert_exporter": "python",
   "pygments_lexer": "ipython3",
   "version": "3.11.4"
  }
 },
 "nbformat": 4,
 "nbformat_minor": 5
}
