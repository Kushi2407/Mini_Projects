{
 "cells": [
  {
   "cell_type": "markdown",
   "id": "dc7cf70a",
   "metadata": {},
   "source": [
    " # MINI PROJECT ACTIVITY\n",
    "## PROJECT TITLE : IRIS DATASET [Phase-4]"
   ]
  },
  {
   "cell_type": "markdown",
   "id": "c740cbce",
   "metadata": {},
   "source": [
    "# Regression\n"
   ]
  },
  {
   "cell_type": "code",
   "execution_count": 105,
   "id": "e0d01990",
   "metadata": {},
   "outputs": [
    {
     "data": {
      "text/html": [
       "<div>\n",
       "<style scoped>\n",
       "    .dataframe tbody tr th:only-of-type {\n",
       "        vertical-align: middle;\n",
       "    }\n",
       "\n",
       "    .dataframe tbody tr th {\n",
       "        vertical-align: top;\n",
       "    }\n",
       "\n",
       "    .dataframe thead th {\n",
       "        text-align: right;\n",
       "    }\n",
       "</style>\n",
       "<table border=\"1\" class=\"dataframe\">\n",
       "  <thead>\n",
       "    <tr style=\"text-align: right;\">\n",
       "      <th></th>\n",
       "      <th>sepal_length</th>\n",
       "      <th>sepal_width</th>\n",
       "      <th>petal_length</th>\n",
       "      <th>petal_width</th>\n",
       "      <th>species</th>\n",
       "    </tr>\n",
       "  </thead>\n",
       "  <tbody>\n",
       "    <tr>\n",
       "      <th>0</th>\n",
       "      <td>5.1</td>\n",
       "      <td>3.5</td>\n",
       "      <td>1.4</td>\n",
       "      <td>0.2</td>\n",
       "      <td>Iris-setosa</td>\n",
       "    </tr>\n",
       "    <tr>\n",
       "      <th>1</th>\n",
       "      <td>4.9</td>\n",
       "      <td>3.0</td>\n",
       "      <td>1.4</td>\n",
       "      <td>0.2</td>\n",
       "      <td>Iris-setosa</td>\n",
       "    </tr>\n",
       "    <tr>\n",
       "      <th>2</th>\n",
       "      <td>4.7</td>\n",
       "      <td>3.2</td>\n",
       "      <td>1.3</td>\n",
       "      <td>0.2</td>\n",
       "      <td>Iris-setosa</td>\n",
       "    </tr>\n",
       "    <tr>\n",
       "      <th>3</th>\n",
       "      <td>4.6</td>\n",
       "      <td>3.1</td>\n",
       "      <td>1.5</td>\n",
       "      <td>0.2</td>\n",
       "      <td>Iris-setosa</td>\n",
       "    </tr>\n",
       "    <tr>\n",
       "      <th>4</th>\n",
       "      <td>5.0</td>\n",
       "      <td>3.6</td>\n",
       "      <td>1.4</td>\n",
       "      <td>0.2</td>\n",
       "      <td>Iris-setosa</td>\n",
       "    </tr>\n",
       "    <tr>\n",
       "      <th>...</th>\n",
       "      <td>...</td>\n",
       "      <td>...</td>\n",
       "      <td>...</td>\n",
       "      <td>...</td>\n",
       "      <td>...</td>\n",
       "    </tr>\n",
       "    <tr>\n",
       "      <th>145</th>\n",
       "      <td>6.7</td>\n",
       "      <td>3.0</td>\n",
       "      <td>5.2</td>\n",
       "      <td>2.3</td>\n",
       "      <td>Iris-virginica</td>\n",
       "    </tr>\n",
       "    <tr>\n",
       "      <th>146</th>\n",
       "      <td>6.3</td>\n",
       "      <td>2.5</td>\n",
       "      <td>5.0</td>\n",
       "      <td>1.9</td>\n",
       "      <td>Iris-virginica</td>\n",
       "    </tr>\n",
       "    <tr>\n",
       "      <th>147</th>\n",
       "      <td>6.5</td>\n",
       "      <td>3.0</td>\n",
       "      <td>5.2</td>\n",
       "      <td>2.0</td>\n",
       "      <td>Iris-virginica</td>\n",
       "    </tr>\n",
       "    <tr>\n",
       "      <th>148</th>\n",
       "      <td>6.2</td>\n",
       "      <td>3.4</td>\n",
       "      <td>5.4</td>\n",
       "      <td>2.3</td>\n",
       "      <td>Iris-virginica</td>\n",
       "    </tr>\n",
       "    <tr>\n",
       "      <th>149</th>\n",
       "      <td>5.9</td>\n",
       "      <td>3.0</td>\n",
       "      <td>5.1</td>\n",
       "      <td>1.8</td>\n",
       "      <td>Iris-virginica</td>\n",
       "    </tr>\n",
       "  </tbody>\n",
       "</table>\n",
       "<p>150 rows × 5 columns</p>\n",
       "</div>"
      ],
      "text/plain": [
       "     sepal_length  sepal_width  petal_length  petal_width         species\n",
       "0             5.1          3.5           1.4          0.2     Iris-setosa\n",
       "1             4.9          3.0           1.4          0.2     Iris-setosa\n",
       "2             4.7          3.2           1.3          0.2     Iris-setosa\n",
       "3             4.6          3.1           1.5          0.2     Iris-setosa\n",
       "4             5.0          3.6           1.4          0.2     Iris-setosa\n",
       "..            ...          ...           ...          ...             ...\n",
       "145           6.7          3.0           5.2          2.3  Iris-virginica\n",
       "146           6.3          2.5           5.0          1.9  Iris-virginica\n",
       "147           6.5          3.0           5.2          2.0  Iris-virginica\n",
       "148           6.2          3.4           5.4          2.3  Iris-virginica\n",
       "149           5.9          3.0           5.1          1.8  Iris-virginica\n",
       "\n",
       "[150 rows x 5 columns]"
      ]
     },
     "execution_count": 105,
     "metadata": {},
     "output_type": "execute_result"
    }
   ],
   "source": [
    "import pandas as pd\n",
    "df=pd.read_csv(\"C:/Users/91935/OneDrive/Desktop/Ipec Dataset/iris.csv\")\n",
    "df"
   ]
  },
  {
   "cell_type": "markdown",
   "id": "b601950c",
   "metadata": {},
   "source": [
    "## 2. Importing Libraries and Reading the Dataset"
   ]
  },
  {
   "cell_type": "code",
   "execution_count": 106,
   "id": "62c537be",
   "metadata": {},
   "outputs": [],
   "source": [
    "import numpy as np\n",
    "import pandas as pd\n",
    "import matplotlib.pyplot as plt\n",
    "import seaborn as sns\n",
    "from sklearn.metrics import mean_squared_error\n",
    "from sklearn.model_selection import cross_val_score\n",
    "from collections import Counter\n",
    "from IPython.core.display import display, HTML\n",
    "sns.set_style('darkgrid')"
   ]
  },
  {
   "cell_type": "code",
   "execution_count": 107,
   "id": "51bd0f50",
   "metadata": {},
   "outputs": [
    {
     "data": {
      "text/html": [
       "<div>\n",
       "<style scoped>\n",
       "    .dataframe tbody tr th:only-of-type {\n",
       "        vertical-align: middle;\n",
       "    }\n",
       "\n",
       "    .dataframe tbody tr th {\n",
       "        vertical-align: top;\n",
       "    }\n",
       "\n",
       "    .dataframe thead th {\n",
       "        text-align: right;\n",
       "    }\n",
       "</style>\n",
       "<table border=\"1\" class=\"dataframe\">\n",
       "  <thead>\n",
       "    <tr style=\"text-align: right;\">\n",
       "      <th></th>\n",
       "      <th>sepal_length</th>\n",
       "      <th>sepal_width</th>\n",
       "      <th>petal_length</th>\n",
       "      <th>petal_width</th>\n",
       "      <th>species</th>\n",
       "    </tr>\n",
       "  </thead>\n",
       "  <tbody>\n",
       "    <tr>\n",
       "      <th>0</th>\n",
       "      <td>5.1</td>\n",
       "      <td>3.5</td>\n",
       "      <td>1.4</td>\n",
       "      <td>0.2</td>\n",
       "      <td>Iris-setosa</td>\n",
       "    </tr>\n",
       "    <tr>\n",
       "      <th>1</th>\n",
       "      <td>4.9</td>\n",
       "      <td>3.0</td>\n",
       "      <td>1.4</td>\n",
       "      <td>0.2</td>\n",
       "      <td>Iris-setosa</td>\n",
       "    </tr>\n",
       "    <tr>\n",
       "      <th>2</th>\n",
       "      <td>4.7</td>\n",
       "      <td>3.2</td>\n",
       "      <td>1.3</td>\n",
       "      <td>0.2</td>\n",
       "      <td>Iris-setosa</td>\n",
       "    </tr>\n",
       "    <tr>\n",
       "      <th>3</th>\n",
       "      <td>4.6</td>\n",
       "      <td>3.1</td>\n",
       "      <td>1.5</td>\n",
       "      <td>0.2</td>\n",
       "      <td>Iris-setosa</td>\n",
       "    </tr>\n",
       "    <tr>\n",
       "      <th>4</th>\n",
       "      <td>5.0</td>\n",
       "      <td>3.6</td>\n",
       "      <td>1.4</td>\n",
       "      <td>0.2</td>\n",
       "      <td>Iris-setosa</td>\n",
       "    </tr>\n",
       "  </tbody>\n",
       "</table>\n",
       "</div>"
      ],
      "text/plain": [
       "   sepal_length  sepal_width  petal_length  petal_width      species\n",
       "0           5.1          3.5           1.4          0.2  Iris-setosa\n",
       "1           4.9          3.0           1.4          0.2  Iris-setosa\n",
       "2           4.7          3.2           1.3          0.2  Iris-setosa\n",
       "3           4.6          3.1           1.5          0.2  Iris-setosa\n",
       "4           5.0          3.6           1.4          0.2  Iris-setosa"
      ]
     },
     "execution_count": 107,
     "metadata": {},
     "output_type": "execute_result"
    }
   ],
   "source": [
    "df.head()"
   ]
  },
  {
   "cell_type": "code",
   "execution_count": 108,
   "id": "aa1672d5",
   "metadata": {},
   "outputs": [
    {
     "name": "stdout",
     "output_type": "stream",
     "text": [
      "<class 'pandas.core.frame.DataFrame'>\n",
      "RangeIndex: 150 entries, 0 to 149\n",
      "Data columns (total 5 columns):\n",
      " #   Column        Non-Null Count  Dtype  \n",
      "---  ------        --------------  -----  \n",
      " 0   sepal_length  150 non-null    float64\n",
      " 1   sepal_width   150 non-null    float64\n",
      " 2   petal_length  150 non-null    float64\n",
      " 3   petal_width   150 non-null    float64\n",
      " 4   species       150 non-null    object \n",
      "dtypes: float64(4), object(1)\n",
      "memory usage: 6.0+ KB\n"
     ]
    }
   ],
   "source": [
    "df.info()"
   ]
  },
  {
   "cell_type": "code",
   "execution_count": 109,
   "id": "875a57dc",
   "metadata": {},
   "outputs": [
    {
     "data": {
      "text/html": [
       "<div>\n",
       "<style scoped>\n",
       "    .dataframe tbody tr th:only-of-type {\n",
       "        vertical-align: middle;\n",
       "    }\n",
       "\n",
       "    .dataframe tbody tr th {\n",
       "        vertical-align: top;\n",
       "    }\n",
       "\n",
       "    .dataframe thead th {\n",
       "        text-align: right;\n",
       "    }\n",
       "</style>\n",
       "<table border=\"1\" class=\"dataframe\">\n",
       "  <thead>\n",
       "    <tr style=\"text-align: right;\">\n",
       "      <th></th>\n",
       "      <th>sepal_length</th>\n",
       "      <th>sepal_width</th>\n",
       "      <th>petal_length</th>\n",
       "      <th>petal_width</th>\n",
       "    </tr>\n",
       "  </thead>\n",
       "  <tbody>\n",
       "    <tr>\n",
       "      <th>0</th>\n",
       "      <td>5.1</td>\n",
       "      <td>3.5</td>\n",
       "      <td>1.4</td>\n",
       "      <td>0.2</td>\n",
       "    </tr>\n",
       "    <tr>\n",
       "      <th>1</th>\n",
       "      <td>4.9</td>\n",
       "      <td>3.0</td>\n",
       "      <td>1.4</td>\n",
       "      <td>0.2</td>\n",
       "    </tr>\n",
       "  </tbody>\n",
       "</table>\n",
       "</div>"
      ],
      "text/plain": [
       "   sepal_length  sepal_width  petal_length  petal_width\n",
       "0           5.1          3.5           1.4          0.2\n",
       "1           4.9          3.0           1.4          0.2"
      ]
     },
     "execution_count": 109,
     "metadata": {},
     "output_type": "execute_result"
    }
   ],
   "source": [
    "df =df.drop('species', axis=1)\n",
    "df.head(2)"
   ]
  },
  {
   "cell_type": "code",
   "execution_count": 110,
   "id": "86963a89",
   "metadata": {},
   "outputs": [
    {
     "data": {
      "text/plain": [
       "sepal_length    0\n",
       "sepal_width     0\n",
       "petal_length    0\n",
       "petal_width     0\n",
       "dtype: int64"
      ]
     },
     "execution_count": 110,
     "metadata": {},
     "output_type": "execute_result"
    }
   ],
   "source": [
    "df.isnull().sum()"
   ]
  },
  {
   "cell_type": "code",
   "execution_count": 111,
   "id": "7f0daccb",
   "metadata": {},
   "outputs": [],
   "source": [
    "X = df.iloc[:, 0:3].values\n",
    "y = df.iloc[:, 3].values.reshape(-1,1)"
   ]
  },
  {
   "cell_type": "code",
   "execution_count": 112,
   "id": "702f1e71",
   "metadata": {},
   "outputs": [],
   "source": [
    "from sklearn.model_selection import train_test_split\n",
    "X_train, X_test, y_train, y_test = train_test_split(X, y, test_size = 0.3, random_state = 25)"
   ]
  },
  {
   "cell_type": "code",
   "execution_count": 113,
   "id": "e32d55f0",
   "metadata": {},
   "outputs": [
    {
     "name": "stdout",
     "output_type": "stream",
     "text": [
      "Shape of X_train:  (105, 3)\n",
      "Shape of X_test:  (45, 3)\n",
      "Shape of y_train:  (105, 1)\n",
      "Shape of y_test (45, 1)\n"
     ]
    }
   ],
   "source": [
    "print(\"Shape of X_train: \",X_train.shape)\n",
    "print(\"Shape of X_test: \", X_test.shape)\n",
    "print(\"Shape of y_train: \",y_train.shape)\n",
    "print(\"Shape of y_test\",y_test.shape)"
   ]
  },
  {
   "cell_type": "code",
   "execution_count": 114,
   "id": "697e3642",
   "metadata": {},
   "outputs": [
    {
     "data": {
      "image/png": "[encoded data removed]",
      "text/plain": [
       "<Figure size 1000x1000 with 2 Axes>"
      ]
     },
     "metadata": {},
     "output_type": "display_data"
    }
   ],
   "source": [
    "corr = df.corr()\n",
    "#Plot figsize\n",
    "fig, ax = plt.subplots(figsize=(10, 10))\n",
    "#Generate Heat Map, allow annotations and place floats in map\n",
    "sns.heatmap(corr, cmap='RdBu', annot=True, fmt=\".2f\")\n",
    "#Apply xticks\n",
    "plt.xticks(range(len(corr.columns)), corr.columns);\n",
    "#Apply yticks\n",
    "plt.yticks(range(len(corr.columns)), corr.columns)\n",
    "#show plot\n",
    "plt.show()"
   ]
  },
  {
   "cell_type": "code",
   "execution_count": 115,
   "id": "b60668f5",
   "metadata": {},
   "outputs": [
    {
     "data": {
      "image/png": "[encoded data removed]",
      "text/plain": [
       "<Figure size 1000x1000 with 20 Axes>"
      ]
     },
     "metadata": {},
     "output_type": "display_data"
    }
   ],
   "source": [
    "sns.pairplot(df)\n",
    "plt.show()"
   ]
  },
  {
   "cell_type": "markdown",
   "id": "af812290",
   "metadata": {},
   "source": [
    "# Dimensionality Reduction"
   ]
  },
  {
   "cell_type": "markdown",
   "id": "f355860d",
   "metadata": {},
   "source": [
    "## PCA Method"
   ]
  },
  {
   "cell_type": "code",
   "execution_count": 135,
   "id": "19d9a3f4",
   "metadata": {},
   "outputs": [
    {
     "data": {
      "image/png": "[encoded data removed]",
      "text/plain": [
       "<Figure size 640x480 with 1 Axes>"
      ]
     },
     "metadata": {},
     "output_type": "display_data"
    }
   ],
   "source": [
    "from sklearn.decomposition import PCA\n",
    "from sklearn.datasets import load_iris\n",
    "import matplotlib.pyplot as plt\n",
    "\n",
    "# Load the Iris dataset\n",
    "iris = load_iris()\n",
    "X = iris.data\n",
    "y = iris.target\n",
    "\n",
    "# Apply PCA and reduce the data to 2 principal components\n",
    "pca = PCA(n_components=2)\n",
    "X_pca = pca.fit_transform(X)\n",
    "\n",
    "# Plot the transformed data\n",
    "plt.scatter(X_pca[:, 0], X_pca[:, 1], c=y, cmap='viridis', edgecolor='k', s=50)\n",
    "plt.xlabel('Principal Component 1')\n",
    "plt.ylabel('Principal Component 2')\n",
    "plt.title('PCA of Iris Dataset')\n",
    "plt.show()\n"
   ]
  },
  {
   "cell_type": "markdown",
   "id": "2bf33a32",
   "metadata": {},
   "source": [
    "# Chi-Square"
   ]
  },
  {
   "cell_type": "code",
   "execution_count": 136,
   "id": "3405828d",
   "metadata": {},
   "outputs": [],
   "source": [
    "import pandas as pd\n",
    "from sklearn.feature_selection import SelectKBest\n",
    "from sklearn.feature_selection import f_classif\n",
    "from sklearn.datasets import load_iris  # Import the Iris dataset"
   ]
  },
  {
   "cell_type": "code",
   "execution_count": 137,
   "id": "bd5618ea",
   "metadata": {},
   "outputs": [],
   "source": [
    "# Load the Iris dataset\n",
    "iris = load_iris()"
   ]
  },
  {
   "cell_type": "code",
   "execution_count": 138,
   "id": "72a50af1",
   "metadata": {},
   "outputs": [],
   "source": [
    "X = iris.data\n",
    "y = iris.target"
   ]
  },
  {
   "cell_type": "code",
   "execution_count": 139,
   "id": "25641e5f",
   "metadata": {},
   "outputs": [],
   "source": [
    "# Apply ANOVA F-statistic\n",
    "f_selector = SelectKBest(f_classif, k='all')\n",
    "X_f_selected = f_selector.fit_transform(X, y)\n"
   ]
  },
  {
   "cell_type": "code",
   "execution_count": 140,
   "id": "2504da8a",
   "metadata": {},
   "outputs": [],
   "source": [
    "# Get the p-values and F-statistics for each feature\n",
    "p_values = f_selector.pvalues_\n",
    "f_statistics = f_selector.scores_\n"
   ]
  },
  {
   "cell_type": "code",
   "execution_count": 141,
   "id": "dd8e651c",
   "metadata": {},
   "outputs": [
    {
     "name": "stdout",
     "output_type": "stream",
     "text": [
      "             Feature  F-statistic       P-value\n",
      "0  sepal length (cm)   119.264502  1.669669e-31\n",
      "1   sepal width (cm)    49.160040  4.492017e-17\n",
      "2  petal length (cm)  1180.161182  2.856777e-91\n",
      "3   petal width (cm)   960.007147  4.169446e-85\n"
     ]
    }
   ],
   "source": [
    "# Create a DataFrame to display the results\n",
    "feature_names = iris.feature_names\n",
    "result_df = pd.DataFrame({\n",
    "    'Feature': feature_names,\n",
    "    'F-statistic': f_statistics,\n",
    "    'P-value': p_values\n",
    "})\n",
    "\n",
    "print(result_df)\n"
   ]
  },
  {
   "cell_type": "markdown",
   "id": "a87b5129",
   "metadata": {},
   "source": [
    "# Normalization"
   ]
  },
  {
   "cell_type": "markdown",
   "id": "67031a7d",
   "metadata": {},
   "source": [
    "## MinMaxScaler"
   ]
  },
  {
   "cell_type": "code",
   "execution_count": 142,
   "id": "5a0bb79f",
   "metadata": {},
   "outputs": [],
   "source": [
    "import pandas as pd\n",
    "from sklearn.preprocessing import MinMaxScaler"
   ]
  },
  {
   "cell_type": "code",
   "execution_count": 143,
   "id": "f6fe1191",
   "metadata": {},
   "outputs": [],
   "source": [
    "X = iris.data\n",
    "y = iris.target\n",
    "feature_names = iris.feature_names"
   ]
  },
  {
   "cell_type": "code",
   "execution_count": 144,
   "id": "4eab2c2f",
   "metadata": {},
   "outputs": [],
   "source": [
    "# Initialize the MinMaxScaler\n",
    "scaler = MinMaxScaler()"
   ]
  },
  {
   "cell_type": "code",
   "execution_count": 145,
   "id": "67e12e50",
   "metadata": {},
   "outputs": [],
   "source": [
    "# Fit and transform the data\n",
    "X_normalized = scaler.fit_transform(X)"
   ]
  },
  {
   "cell_type": "code",
   "execution_count": 146,
   "id": "5e0cee05",
   "metadata": {},
   "outputs": [],
   "source": [
    "# Create a DataFrame with the normalized features\n",
    "df_normalized = pd.DataFrame(data=X_normalized, columns=feature_names)\n",
    "df_normalized['Target'] = y\n"
   ]
  },
  {
   "cell_type": "code",
   "execution_count": 147,
   "id": "2b58e287",
   "metadata": {},
   "outputs": [
    {
     "name": "stdout",
     "output_type": "stream",
     "text": [
      "   sepal length (cm)  sepal width (cm)  petal length (cm)  petal width (cm)  \\\n",
      "0           0.222222          0.625000           0.067797          0.041667   \n",
      "1           0.166667          0.416667           0.067797          0.041667   \n",
      "2           0.111111          0.500000           0.050847          0.041667   \n",
      "3           0.083333          0.458333           0.084746          0.041667   \n",
      "4           0.194444          0.666667           0.067797          0.041667   \n",
      "\n",
      "   Target  \n",
      "0       0  \n",
      "1       0  \n",
      "2       0  \n",
      "3       0  \n",
      "4       0  \n"
     ]
    }
   ],
   "source": [
    "# Display the first few rows of the normalized data\n",
    "print(df_normalized.head())"
   ]
  },
  {
   "cell_type": "markdown",
   "id": "eafd76cf",
   "metadata": {},
   "source": [
    "#  Linear Regression"
   ]
  },
  {
   "cell_type": "code",
   "execution_count": 148,
   "id": "3b19488e",
   "metadata": {
    "scrolled": true
   },
   "outputs": [
    {
     "data": {
      "text/html": [
       "<style>#sk-container-id-7 {color: black;}#sk-container-id-7 pre{padding: 0;}#sk-container-id-7 div.sk-toggleable {background-color: white;}#sk-container-id-7 label.sk-toggleable__label {cursor: pointer;display: block;width: 100%;margin-bottom: 0;padding: 0.3em;box-sizing: border-box;text-align: center;}#sk-container-id-7 label.sk-toggleable__label-arrow:before {content: \"▸\";float: left;margin-right: 0.25em;color: #696969;}#sk-container-id-7 label.sk-toggleable__label-arrow:hover:before {color: black;}#sk-container-id-7 div.sk-estimator:hover label.sk-toggleable__label-arrow:before {color: black;}#sk-container-id-7 div.sk-toggleable__content {max-height: 0;max-width: 0;overflow: hidden;text-align: left;background-color: #f0f8ff;}#sk-container-id-7 div.sk-toggleable__content pre {margin: 0.2em;color: black;border-radius: 0.25em;background-color: #f0f8ff;}#sk-container-id-7 input.sk-toggleable__control:checked~div.sk-toggleable__content {max-height: 200px;max-width: 100%;overflow: auto;}#sk-container-id-7 input.sk-toggleable__control:checked~label.sk-toggleable__label-arrow:before {content: \"▾\";}#sk-container-id-7 div.sk-estimator input.sk-toggleable__control:checked~label.sk-toggleable__label {background-color: #d4ebff;}#sk-container-id-7 div.sk-label input.sk-toggleable__control:checked~label.sk-toggleable__label {background-color: #d4ebff;}#sk-container-id-7 input.sk-hidden--visually {border: 0;clip: rect(1px 1px 1px 1px);clip: rect(1px, 1px, 1px, 1px);height: 1px;margin: -1px;overflow: hidden;padding: 0;position: absolute;width: 1px;}#sk-container-id-7 div.sk-estimator {font-family: monospace;background-color: #f0f8ff;border: 1px dotted black;border-radius: 0.25em;box-sizing: border-box;margin-bottom: 0.5em;}#sk-container-id-7 div.sk-estimator:hover {background-color: #d4ebff;}#sk-container-id-7 div.sk-parallel-item::after {content: \"\";width: 100%;border-bottom: 1px solid gray;flex-grow: 1;}#sk-container-id-7 div.sk-label:hover label.sk-toggleable__label {background-color: #d4ebff;}#sk-container-id-7 div.sk-serial::before {content: \"\";position: absolute;border-left: 1px solid gray;box-sizing: border-box;top: 0;bottom: 0;left: 50%;z-index: 0;}#sk-container-id-7 div.sk-serial {display: flex;flex-direction: column;align-items: center;background-color: white;padding-right: 0.2em;padding-left: 0.2em;position: relative;}#sk-container-id-7 div.sk-item {position: relative;z-index: 1;}#sk-container-id-7 div.sk-parallel {display: flex;align-items: stretch;justify-content: center;background-color: white;position: relative;}#sk-container-id-7 div.sk-item::before, #sk-container-id-7 div.sk-parallel-item::before {content: \"\";position: absolute;border-left: 1px solid gray;box-sizing: border-box;top: 0;bottom: 0;left: 50%;z-index: -1;}#sk-container-id-7 div.sk-parallel-item {display: flex;flex-direction: column;z-index: 1;position: relative;background-color: white;}#sk-container-id-7 div.sk-parallel-item:first-child::after {align-self: flex-end;width: 50%;}#sk-container-id-7 div.sk-parallel-item:last-child::after {align-self: flex-start;width: 50%;}#sk-container-id-7 div.sk-parallel-item:only-child::after {width: 0;}#sk-container-id-7 div.sk-dashed-wrapped {border: 1px dashed gray;margin: 0 0.4em 0.5em 0.4em;box-sizing: border-box;padding-bottom: 0.4em;background-color: white;}#sk-container-id-7 div.sk-label label {font-family: monospace;font-weight: bold;display: inline-block;line-height: 1.2em;}#sk-container-id-7 div.sk-label-container {text-align: center;}#sk-container-id-7 div.sk-container {/* jupyter's `normalize.less` sets `[hidden] { display: none; }` but bootstrap.min.css set `[hidden] { display: none !important; }` so we also need the `!important` here to be able to override the default hidden behavior on the sphinx rendered scikit-learn.org. See: https://github.com/scikit-learn/scikit-learn/issues/21755 */display: inline-block !important;position: relative;}#sk-container-id-7 div.sk-text-repr-fallback {display: none;}</style><div id=\"sk-container-id-7\" class=\"sk-top-container\"><div class=\"sk-text-repr-fallback\"><pre>LinearRegression()</pre><b>In a Jupyter environment, please rerun this cell to show the HTML representation or trust the notebook. <br />On GitHub, the HTML representation is unable to render, please try loading this page with nbviewer.org.</b></div><div class=\"sk-container\" hidden><div class=\"sk-item\"><div class=\"sk-estimator sk-toggleable\"><input class=\"sk-toggleable__control sk-hidden--visually\" id=\"sk-estimator-id-10\" type=\"checkbox\" checked><label for=\"sk-estimator-id-10\" class=\"sk-toggleable__label sk-toggleable__label-arrow\">LinearRegression</label><div class=\"sk-toggleable__content\"><pre>LinearRegression()</pre></div></div></div></div></div>"
      ],
      "text/plain": [
       "LinearRegression()"
      ]
     },
     "execution_count": 148,
     "metadata": {},
     "output_type": "execute_result"
    }
   ],
   "source": [
    "from sklearn.linear_model import LinearRegression\n",
    "regressor_linear = LinearRegression()\n",
    "regressor_linear.fit(X_train, y_train)"
   ]
  },
  {
   "cell_type": "code",
   "execution_count": 149,
   "id": "218729df",
   "metadata": {},
   "outputs": [
    {
     "name": "stdout",
     "output_type": "stream",
     "text": [
      "CV:  0.9145415651803701\n",
      "R2_score (train):  0.9339509732048493\n",
      "R2_score (test):  0.9443964680105399\n",
      "RMSE:  0.17327192911974204\n"
     ]
    }
   ],
   "source": [
    "from sklearn.metrics import r2_score\n",
    "\n",
    "# Predicting Cross Validation Score the Test set results\n",
    "cv_linear = cross_val_score(estimator = regressor_linear, X = X_train, y = y_train, cv = 10)\n",
    "\n",
    "# Predicting R2 Score the Train set results\n",
    "y_pred_linear_train = regressor_linear.predict(X_train)\n",
    "r2_score_linear_train = r2_score(y_train, y_pred_linear_train)\n",
    "\n",
    "# Predicting R2 Score the Test set results\n",
    "y_pred_linear_test = regressor_linear.predict(X_test)\n",
    "r2_score_linear_test = r2_score(y_test, y_pred_linear_test)\n",
    "\n",
    "# Predicting RMSE the Test set results\n",
    "rmse_linear = (np.sqrt(mean_squared_error(y_test, y_pred_linear_test)))\n",
    "print(\"CV: \", cv_linear.mean())\n",
    "print('R2_score (train): ', r2_score_linear_train)\n",
    "print('R2_score (test): ', r2_score_linear_test)\n",
    "print(\"RMSE: \", rmse_linear)"
   ]
  },
  {
   "cell_type": "markdown",
   "id": "390d1efd",
   "metadata": {},
   "source": [
    "## Support Vector Regression"
   ]
  },
  {
   "cell_type": "code",
   "execution_count": 150,
   "id": "7462235a",
   "metadata": {},
   "outputs": [],
   "source": [
    "# Feature Scaling\n",
    "from sklearn.preprocessing import StandardScaler\n",
    "sc_X = StandardScaler()\n",
    "sc_y = StandardScaler()\n",
    "X_scaled = sc_X.fit_transform(X_train)\n",
    "y_scaled = sc_y.fit_transform(y_train.reshape(-1,1))"
   ]
  },
  {
   "cell_type": "code",
   "execution_count": 151,
   "id": "a4b04d71",
   "metadata": {},
   "outputs": [
    {
     "data": {
      "text/html": [
       "<style>#sk-container-id-8 {color: black;}#sk-container-id-8 pre{padding: 0;}#sk-container-id-8 div.sk-toggleable {background-color: white;}#sk-container-id-8 label.sk-toggleable__label {cursor: pointer;display: block;width: 100%;margin-bottom: 0;padding: 0.3em;box-sizing: border-box;text-align: center;}#sk-container-id-8 label.sk-toggleable__label-arrow:before {content: \"▸\";float: left;margin-right: 0.25em;color: #696969;}#sk-container-id-8 label.sk-toggleable__label-arrow:hover:before {color: black;}#sk-container-id-8 div.sk-estimator:hover label.sk-toggleable__label-arrow:before {color: black;}#sk-container-id-8 div.sk-toggleable__content {max-height: 0;max-width: 0;overflow: hidden;text-align: left;background-color: #f0f8ff;}#sk-container-id-8 div.sk-toggleable__content pre {margin: 0.2em;color: black;border-radius: 0.25em;background-color: #f0f8ff;}#sk-container-id-8 input.sk-toggleable__control:checked~div.sk-toggleable__content {max-height: 200px;max-width: 100%;overflow: auto;}#sk-container-id-8 input.sk-toggleable__control:checked~label.sk-toggleable__label-arrow:before {content: \"▾\";}#sk-container-id-8 div.sk-estimator input.sk-toggleable__control:checked~label.sk-toggleable__label {background-color: #d4ebff;}#sk-container-id-8 div.sk-label input.sk-toggleable__control:checked~label.sk-toggleable__label {background-color: #d4ebff;}#sk-container-id-8 input.sk-hidden--visually {border: 0;clip: rect(1px 1px 1px 1px);clip: rect(1px, 1px, 1px, 1px);height: 1px;margin: -1px;overflow: hidden;padding: 0;position: absolute;width: 1px;}#sk-container-id-8 div.sk-estimator {font-family: monospace;background-color: #f0f8ff;border: 1px dotted black;border-radius: 0.25em;box-sizing: border-box;margin-bottom: 0.5em;}#sk-container-id-8 div.sk-estimator:hover {background-color: #d4ebff;}#sk-container-id-8 div.sk-parallel-item::after {content: \"\";width: 100%;border-bottom: 1px solid gray;flex-grow: 1;}#sk-container-id-8 div.sk-label:hover label.sk-toggleable__label {background-color: #d4ebff;}#sk-container-id-8 div.sk-serial::before {content: \"\";position: absolute;border-left: 1px solid gray;box-sizing: border-box;top: 0;bottom: 0;left: 50%;z-index: 0;}#sk-container-id-8 div.sk-serial {display: flex;flex-direction: column;align-items: center;background-color: white;padding-right: 0.2em;padding-left: 0.2em;position: relative;}#sk-container-id-8 div.sk-item {position: relative;z-index: 1;}#sk-container-id-8 div.sk-parallel {display: flex;align-items: stretch;justify-content: center;background-color: white;position: relative;}#sk-container-id-8 div.sk-item::before, #sk-container-id-8 div.sk-parallel-item::before {content: \"\";position: absolute;border-left: 1px solid gray;box-sizing: border-box;top: 0;bottom: 0;left: 50%;z-index: -1;}#sk-container-id-8 div.sk-parallel-item {display: flex;flex-direction: column;z-index: 1;position: relative;background-color: white;}#sk-container-id-8 div.sk-parallel-item:first-child::after {align-self: flex-end;width: 50%;}#sk-container-id-8 div.sk-parallel-item:last-child::after {align-self: flex-start;width: 50%;}#sk-container-id-8 div.sk-parallel-item:only-child::after {width: 0;}#sk-container-id-8 div.sk-dashed-wrapped {border: 1px dashed gray;margin: 0 0.4em 0.5em 0.4em;box-sizing: border-box;padding-bottom: 0.4em;background-color: white;}#sk-container-id-8 div.sk-label label {font-family: monospace;font-weight: bold;display: inline-block;line-height: 1.2em;}#sk-container-id-8 div.sk-label-container {text-align: center;}#sk-container-id-8 div.sk-container {/* jupyter's `normalize.less` sets `[hidden] { display: none; }` but bootstrap.min.css set `[hidden] { display: none !important; }` so we also need the `!important` here to be able to override the default hidden behavior on the sphinx rendered scikit-learn.org. See: https://github.com/scikit-learn/scikit-learn/issues/21755 */display: inline-block !important;position: relative;}#sk-container-id-8 div.sk-text-repr-fallback {display: none;}</style><div id=\"sk-container-id-8\" class=\"sk-top-container\"><div class=\"sk-text-repr-fallback\"><pre>SVR()</pre><b>In a Jupyter environment, please rerun this cell to show the HTML representation or trust the notebook. <br />On GitHub, the HTML representation is unable to render, please try loading this page with nbviewer.org.</b></div><div class=\"sk-container\" hidden><div class=\"sk-item\"><div class=\"sk-estimator sk-toggleable\"><input class=\"sk-toggleable__control sk-hidden--visually\" id=\"sk-estimator-id-11\" type=\"checkbox\" checked><label for=\"sk-estimator-id-11\" class=\"sk-toggleable__label sk-toggleable__label-arrow\">SVR</label><div class=\"sk-toggleable__content\"><pre>SVR()</pre></div></div></div></div></div>"
      ],
      "text/plain": [
       "SVR()"
      ]
     },
     "execution_count": 151,
     "metadata": {},
     "output_type": "execute_result"
    }
   ],
   "source": [
    "# Fitting the SVR Model to the dataset\n",
    "from sklearn.svm import SVR\n",
    "regressor_svr = SVR(kernel = 'rbf', gamma = 'scale')\n",
    "regressor_svr.fit(X_scaled, y_scaled.ravel())"
   ]
  },
  {
   "cell_type": "code",
   "execution_count": 152,
   "id": "ec999a50",
   "metadata": {},
   "outputs": [
    {
     "data": {
      "text/plain": [
       "array([[5.4],\n",
       "       [3.7],\n",
       "       [1.5],\n",
       "       [5.5],\n",
       "       [4.2],\n",
       "       [1.4],\n",
       "       [6. ],\n",
       "       [2.9],\n",
       "       [4.5],\n",
       "       [5.2],\n",
       "       [3.5],\n",
       "       [1.5],\n",
       "       [5.6],\n",
       "       [2.8],\n",
       "       [4.9],\n",
       "       [7.1],\n",
       "       [3. ],\n",
       "       [5.9],\n",
       "       [5. ],\n",
       "       [3.4],\n",
       "       [1.5],\n",
       "       [4.8],\n",
       "       [3. ],\n",
       "       [1.4],\n",
       "       [6.3],\n",
       "       [2.9],\n",
       "       [5.6],\n",
       "       [5.8],\n",
       "       [2.7],\n",
       "       [3.9],\n",
       "       [5.8],\n",
       "       [2.8],\n",
       "       [5.1],\n",
       "       [6.7],\n",
       "       [3. ],\n",
       "       [5.2],\n",
       "       [5.7],\n",
       "       [2.8],\n",
       "       [4.5],\n",
       "       [6.7],\n",
       "       [3.3],\n",
       "       [5.7],\n",
       "       [5.7],\n",
       "       [3. ],\n",
       "       [4.2],\n",
       "       [6.2],\n",
       "       [2.8],\n",
       "       [4.8],\n",
       "       [6.7],\n",
       "       [2.5],\n",
       "       [5.8],\n",
       "       [5.5],\n",
       "       [2.4],\n",
       "       [3.8],\n",
       "       [5.1],\n",
       "       [3.8],\n",
       "       [1.5],\n",
       "       [6. ],\n",
       "       [2.2],\n",
       "       [5. ],\n",
       "       [6.3],\n",
       "       [3.3],\n",
       "       [4.7],\n",
       "       [6.5],\n",
       "       [3.2],\n",
       "       [5.1],\n",
       "       [5.2],\n",
       "       [4.1],\n",
       "       [1.5],\n",
       "       [5.2],\n",
       "       [2.7],\n",
       "       [3.9],\n",
       "       [6.7],\n",
       "       [3. ],\n",
       "       [5. ],\n",
       "       [4.9],\n",
       "       [3.1],\n",
       "       [1.5],\n",
       "       [4.8],\n",
       "       [3.4],\n",
       "       [1.9],\n",
       "       [6.7],\n",
       "       [3.3],\n",
       "       [5.7],\n",
       "       [6.1],\n",
       "       [2.9],\n",
       "       [4.7],\n",
       "       [6.6],\n",
       "       [3. ],\n",
       "       [4.4],\n",
       "       [5.1],\n",
       "       [3.8],\n",
       "       [1.9],\n",
       "       [7.6],\n",
       "       [3. ],\n",
       "       [6.6],\n",
       "       [5.8],\n",
       "       [2.7],\n",
       "       [4.1],\n",
       "       [5.8],\n",
       "       [2.7],\n",
       "       [5.1],\n",
       "       [5.7],\n",
       "       [2.9],\n",
       "       [4.2],\n",
       "       [6.5],\n",
       "       [3. ],\n",
       "       [5.5],\n",
       "       [4.3],\n",
       "       [3. ],\n",
       "       [1.1],\n",
       "       [4.7],\n",
       "       [3.2],\n",
       "       [1.6],\n",
       "       [5.5],\n",
       "       [2.3],\n",
       "       [4. ],\n",
       "       [5.1],\n",
       "       [3.8],\n",
       "       [1.6],\n",
       "       [5.1],\n",
       "       [3.4],\n",
       "       [1.5],\n",
       "       [6.8],\n",
       "       [2.8],\n",
       "       [4.8],\n",
       "       [6.3],\n",
       "       [2.7],\n",
       "       [4.9],\n",
       "       [5.7],\n",
       "       [4.4],\n",
       "       [1.5],\n",
       "       [6.2],\n",
       "       [3.4],\n",
       "       [5.4],\n",
       "       [6.1],\n",
       "       [2.8],\n",
       "       [4. ],\n",
       "       [6.2],\n",
       "       [2.9],\n",
       "       [4.3],\n",
       "       [6.4],\n",
       "       [3.2],\n",
       "       [4.5],\n",
       "       [7.4],\n",
       "       [2.8],\n",
       "       [6.1],\n",
       "       [6.3],\n",
       "       [2.3],\n",
       "       [4.4],\n",
       "       [4.9],\n",
       "       [3.1],\n",
       "       [1.5],\n",
       "       [6.3],\n",
       "       [3.3],\n",
       "       [6. ],\n",
       "       [5.8],\n",
       "       [4. ],\n",
       "       [1.2],\n",
       "       [5.1],\n",
       "       [3.5],\n",
       "       [1.4],\n",
       "       [6.4],\n",
       "       [2.9],\n",
       "       [4.3],\n",
       "       [6. ],\n",
       "       [2.7],\n",
       "       [5.1],\n",
       "       [6.4],\n",
       "       [3.1],\n",
       "       [5.5],\n",
       "       [6.3],\n",
       "       [2.5],\n",
       "       [5. ],\n",
       "       [5.5],\n",
       "       [2.6],\n",
       "       [4.4],\n",
       "       [5. ],\n",
       "       [3.5],\n",
       "       [1.6],\n",
       "       [6.4],\n",
       "       [2.7],\n",
       "       [5.3],\n",
       "       [4.8],\n",
       "       [3.4],\n",
       "       [1.6],\n",
       "       [4.6],\n",
       "       [3.6],\n",
       "       [1. ],\n",
       "       [6.1],\n",
       "       [2.8],\n",
       "       [4.7],\n",
       "       [4.9],\n",
       "       [2.4],\n",
       "       [3.3],\n",
       "       [5.4],\n",
       "       [3.9],\n",
       "       [1.7],\n",
       "       [4.7],\n",
       "       [3.2],\n",
       "       [1.3],\n",
       "       [4.4],\n",
       "       [3. ],\n",
       "       [1.3],\n",
       "       [6.8],\n",
       "       [3. ],\n",
       "       [5.5],\n",
       "       [7.3],\n",
       "       [2.9],\n",
       "       [6.3],\n",
       "       [6.5],\n",
       "       [3. ],\n",
       "       [5.8],\n",
       "       [5.8],\n",
       "       [2.7],\n",
       "       [5.1],\n",
       "       [4.8],\n",
       "       [3.1],\n",
       "       [1.6],\n",
       "       [5.1],\n",
       "       [2.5],\n",
       "       [3. ],\n",
       "       [6.9],\n",
       "       [3.1],\n",
       "       [5.1],\n",
       "       [5.8],\n",
       "       [2.6],\n",
       "       [4. ],\n",
       "       [5.7],\n",
       "       [3.8],\n",
       "       [1.7],\n",
       "       [5. ],\n",
       "       [3.3],\n",
       "       [1.4],\n",
       "       [6.1],\n",
       "       [3. ],\n",
       "       [4.6],\n",
       "       [6.7],\n",
       "       [3.1],\n",
       "       [4.7],\n",
       "       [6.1],\n",
       "       [2.6],\n",
       "       [5.6],\n",
       "       [4.9],\n",
       "       [2.5],\n",
       "       [4.5],\n",
       "       [6.5],\n",
       "       [3. ],\n",
       "       [5.2],\n",
       "       [5. ],\n",
       "       [2. ],\n",
       "       [3.5],\n",
       "       [5.5],\n",
       "       [3.5],\n",
       "       [1.3],\n",
       "       [7. ],\n",
       "       [3.2],\n",
       "       [4.7],\n",
       "       [7.2],\n",
       "       [3.6],\n",
       "       [6.1],\n",
       "       [4.6],\n",
       "       [3.2],\n",
       "       [1.4],\n",
       "       [5.3],\n",
       "       [3.7],\n",
       "       [1.5],\n",
       "       [4.9],\n",
       "       [3. ],\n",
       "       [1.4],\n",
       "       [7.9],\n",
       "       [3.8],\n",
       "       [6.4],\n",
       "       [4.8],\n",
       "       [3. ],\n",
       "       [1.4],\n",
       "       [5.4],\n",
       "       [3. ],\n",
       "       [4.5],\n",
       "       [6.7],\n",
       "       [3.1],\n",
       "       [5.6],\n",
       "       [5.6],\n",
       "       [3. ],\n",
       "       [4.1],\n",
       "       [4.6],\n",
       "       [3.1],\n",
       "       [1.5],\n",
       "       [7.2],\n",
       "       [3. ],\n",
       "       [5.8],\n",
       "       [5.5],\n",
       "       [2.5],\n",
       "       [4. ],\n",
       "       [5.9],\n",
       "       [3. ],\n",
       "       [5.1],\n",
       "       [6.3],\n",
       "       [3.4],\n",
       "       [5.6],\n",
       "       [7.7],\n",
       "       [2.6],\n",
       "       [6.9],\n",
       "       [5.9],\n",
       "       [3. ],\n",
       "       [4.2],\n",
       "       [6.8],\n",
       "       [3.2],\n",
       "       [5.9],\n",
       "       [6. ],\n",
       "       [2.2],\n",
       "       [4. ],\n",
       "       [6.4],\n",
       "       [2.8],\n",
       "       [5.6]])"
      ]
     },
     "execution_count": 152,
     "metadata": {},
     "output_type": "execute_result"
    }
   ],
   "source": [
    "X_train = np.array(X_train)\n",
    "X_train.reshape(-1,1)"
   ]
  },
  {
   "cell_type": "code",
   "execution_count": 153,
   "id": "c3ba6e50",
   "metadata": {},
   "outputs": [
    {
     "data": {
      "text/plain": [
       "array([[5.2],\n",
       "       [3.4],\n",
       "       [1.4],\n",
       "       [6.3],\n",
       "       [2.5],\n",
       "       [4.9],\n",
       "       [5.9],\n",
       "       [3.2],\n",
       "       [4.8],\n",
       "       [6. ],\n",
       "       [3.4],\n",
       "       [4.5],\n",
       "       [6.4],\n",
       "       [2.8],\n",
       "       [5.6],\n",
       "       [6.7],\n",
       "       [3.1],\n",
       "       [4.4],\n",
       "       [6.1],\n",
       "       [3. ],\n",
       "       [4.9],\n",
       "       [4.4],\n",
       "       [3.2],\n",
       "       [1.3],\n",
       "       [5.5],\n",
       "       [2.4],\n",
       "       [3.7],\n",
       "       [5. ],\n",
       "       [2.3],\n",
       "       [3.3],\n",
       "       [5.1],\n",
       "       [3.7],\n",
       "       [1.5],\n",
       "       [5.4],\n",
       "       [3.4],\n",
       "       [1.5],\n",
       "       [5. ],\n",
       "       [3.4],\n",
       "       [1.6],\n",
       "       [6.3],\n",
       "       [2.8],\n",
       "       [5.1],\n",
       "       [4.6],\n",
       "       [3.4],\n",
       "       [1.4],\n",
       "       [6.6],\n",
       "       [2.9],\n",
       "       [4.6],\n",
       "       [7.2],\n",
       "       [3.2],\n",
       "       [6. ],\n",
       "       [6.9],\n",
       "       [3.1],\n",
       "       [5.4],\n",
       "       [5.6],\n",
       "       [2.9],\n",
       "       [3.6],\n",
       "       [5.6],\n",
       "       [2.7],\n",
       "       [4.2],\n",
       "       [5.7],\n",
       "       [2.6],\n",
       "       [3.5],\n",
       "       [5.7],\n",
       "       [2.8],\n",
       "       [4.1],\n",
       "       [5.6],\n",
       "       [3. ],\n",
       "       [4.5],\n",
       "       [5.4],\n",
       "       [3.4],\n",
       "       [1.7],\n",
       "       [4.9],\n",
       "       [3.1],\n",
       "       [1.5],\n",
       "       [7.7],\n",
       "       [3.8],\n",
       "       [6.7],\n",
       "       [5.6],\n",
       "       [2.5],\n",
       "       [3.9],\n",
       "       [7.7],\n",
       "       [2.8],\n",
       "       [6.7],\n",
       "       [6.9],\n",
       "       [3.2],\n",
       "       [5.7],\n",
       "       [4.5],\n",
       "       [2.3],\n",
       "       [1.3],\n",
       "       [6.5],\n",
       "       [2.8],\n",
       "       [4.6],\n",
       "       [5.7],\n",
       "       [2.5],\n",
       "       [5. ],\n",
       "       [7.7],\n",
       "       [3. ],\n",
       "       [6.1],\n",
       "       [5. ],\n",
       "       [3.6],\n",
       "       [1.4],\n",
       "       [6.4],\n",
       "       [3.2],\n",
       "       [5.3],\n",
       "       [6.9],\n",
       "       [3.1],\n",
       "       [4.9],\n",
       "       [6.2],\n",
       "       [2.2],\n",
       "       [4.5],\n",
       "       [5. ],\n",
       "       [3.5],\n",
       "       [1.3],\n",
       "       [5.1],\n",
       "       [3.3],\n",
       "       [1.7],\n",
       "       [5. ],\n",
       "       [3.2],\n",
       "       [1.2],\n",
       "       [5.4],\n",
       "       [3.9],\n",
       "       [1.3],\n",
       "       [5.1],\n",
       "       [3.5],\n",
       "       [1.4],\n",
       "       [4.4],\n",
       "       [2.9],\n",
       "       [1.4],\n",
       "       [5. ],\n",
       "       [3. ],\n",
       "       [1.6],\n",
       "       [6. ],\n",
       "       [3. ],\n",
       "       [4.8]])"
      ]
     },
     "execution_count": 153,
     "metadata": {},
     "output_type": "execute_result"
    }
   ],
   "source": [
    "X_test = np.array(X_test)\n",
    "X_test.reshape(-1,1)"
   ]
  },
  {
   "cell_type": "code",
   "execution_count": 154,
   "id": "e3802fb8",
   "metadata": {},
   "outputs": [
    {
     "data": {
      "text/plain": [
       "array([[-0.57589892],\n",
       "       [ 1.44376797],\n",
       "       [-1.34936786],\n",
       "       [-0.45147631],\n",
       "       [ 2.56836468],\n",
       "       [-1.406846  ],\n",
       "       [ 0.17063672],\n",
       "       [-0.35558677],\n",
       "       [ 0.37497646],\n",
       "       [-0.82474413],\n",
       "       [ 0.99392928],\n",
       "       [-1.34936786],\n",
       "       [-0.32705371],\n",
       "       [-0.58050611],\n",
       "       [ 0.60488904],\n",
       "       [ 1.53928537],\n",
       "       [-0.13066743],\n",
       "       [ 1.17967048],\n",
       "       [-1.07358934],\n",
       "       [ 0.76900994],\n",
       "       [-1.34936786],\n",
       "       [-1.32243455],\n",
       "       [-0.13066743],\n",
       "       [-1.406846  ],\n",
       "       [ 0.54390453],\n",
       "       [-0.35558677],\n",
       "       [ 1.00723605],\n",
       "       [-0.07820849],\n",
       "       [-0.80542545],\n",
       "       [ 0.0301076 ],\n",
       "       [-0.07820849],\n",
       "       [-0.58050611],\n",
       "       [ 0.71984533],\n",
       "       [ 1.04159495],\n",
       "       [-0.13066743],\n",
       "       [ 0.77732347],\n",
       "       [-0.2026311 ],\n",
       "       [-0.58050611],\n",
       "       [ 0.37497646],\n",
       "       [ 1.04159495],\n",
       "       [ 0.5440906 ],\n",
       "       [ 1.06471419],\n",
       "       [-0.2026311 ],\n",
       "       [-0.13066743],\n",
       "       [ 0.20254203],\n",
       "       [ 0.41948193],\n",
       "       [-0.58050611],\n",
       "       [ 0.5474109 ],\n",
       "       [ 1.04159495],\n",
       "       [-1.25526414],\n",
       "       [ 1.12219234],\n",
       "       [-0.45147631],\n",
       "       [-1.48018348],\n",
       "       [-0.02737054],\n",
       "       [-0.94916673],\n",
       "       [ 1.66868731],\n",
       "       [-1.34936786],\n",
       "       [ 0.17063672],\n",
       "       [-1.93002216],\n",
       "       [ 0.66236718],\n",
       "       [ 0.54390453],\n",
       "       [ 0.5440906 ],\n",
       "       [ 0.48993275],\n",
       "       [ 0.79274974],\n",
       "       [ 0.31917126],\n",
       "       [ 0.71984533],\n",
       "       [-0.82474413],\n",
       "       [ 2.34344533],\n",
       "       [-1.34936786],\n",
       "       [-0.82474413],\n",
       "       [-0.80542545],\n",
       "       [ 0.0301076 ],\n",
       "       [ 1.04159495],\n",
       "       [-0.13066743],\n",
       "       [ 0.66236718],\n",
       "       [-1.19801194],\n",
       "       [ 0.09425191],\n",
       "       [-1.34936786],\n",
       "       [-1.32243455],\n",
       "       [ 0.76900994],\n",
       "       [-1.11945528],\n",
       "       [ 1.04159495],\n",
       "       [ 0.5440906 ],\n",
       "       [ 1.06471419],\n",
       "       [ 0.29505932],\n",
       "       [-0.35558677],\n",
       "       [ 0.48993275],\n",
       "       [ 0.91717235],\n",
       "       [-0.13066743],\n",
       "       [ 0.31749832],\n",
       "       [-0.94916673],\n",
       "       [ 1.66868731],\n",
       "       [-1.11945528],\n",
       "       [ 2.1613984 ],\n",
       "       [-0.13066743],\n",
       "       [ 1.58201749],\n",
       "       [-0.07820849],\n",
       "       [-0.80542545],\n",
       "       [ 0.14506389],\n",
       "       [-0.07820849],\n",
       "       [-0.80542545],\n",
       "       [ 0.71984533],\n",
       "       [-0.2026311 ],\n",
       "       [-0.35558677],\n",
       "       [ 0.20254203],\n",
       "       [ 0.79274974],\n",
       "       [-0.13066743],\n",
       "       [ 0.9497579 ],\n",
       "       [-1.94454757],\n",
       "       [-0.13066743],\n",
       "       [-1.57928043],\n",
       "       [-1.44685715],\n",
       "       [ 0.31917126],\n",
       "       [-1.29188971],\n",
       "       [-0.45147631],\n",
       "       [-1.70510282],\n",
       "       [ 0.08758574],\n",
       "       [-0.94916673],\n",
       "       [ 1.66868731],\n",
       "       [-1.29188971],\n",
       "       [-0.94916673],\n",
       "       [ 0.76900994],\n",
       "       [-1.34936786],\n",
       "       [ 1.16601756],\n",
       "       [-0.58050611],\n",
       "       [ 0.5474109 ],\n",
       "       [ 0.54390453],\n",
       "       [-0.80542545],\n",
       "       [ 0.60488904],\n",
       "       [-0.2026311 ],\n",
       "       [ 3.01820336],\n",
       "       [-1.34936786],\n",
       "       [ 0.41948193],\n",
       "       [ 0.76900994],\n",
       "       [ 0.89227976],\n",
       "       [ 0.29505932],\n",
       "       [-0.58050611],\n",
       "       [ 0.08758574],\n",
       "       [ 0.41948193],\n",
       "       [-0.35558677],\n",
       "       [ 0.26002018],\n",
       "       [ 0.66832714],\n",
       "       [ 0.31917126],\n",
       "       [ 0.37497646],\n",
       "       [ 1.91255319],\n",
       "       [-0.58050611],\n",
       "       [ 1.29462677],\n",
       "       [ 0.54390453],\n",
       "       [-1.70510282],\n",
       "       [ 0.31749832],\n",
       "       [-1.19801194],\n",
       "       [ 0.09425191],\n",
       "       [-1.34936786],\n",
       "       [ 0.54390453],\n",
       "       [ 0.5440906 ],\n",
       "       [ 1.23714862],\n",
       "       [-0.07820849],\n",
       "       [ 2.11852599],\n",
       "       [-1.52180229],\n",
       "       [-0.94916673],\n",
       "       [ 0.99392928],\n",
       "       [-1.406846  ],\n",
       "       [ 0.66832714],\n",
       "       [-0.35558677],\n",
       "       [ 0.26002018],\n",
       "       [ 0.17063672],\n",
       "       [-0.80542545],\n",
       "       [ 0.71984533],\n",
       "       [ 0.66832714],\n",
       "       [ 0.09425191],\n",
       "       [ 0.9497579 ],\n",
       "       [ 0.54390453],\n",
       "       [-1.25526414],\n",
       "       [ 0.66236718],\n",
       "       [-0.45147631],\n",
       "       [-1.03034479],\n",
       "       [ 0.31749832],\n",
       "       [-1.07358934],\n",
       "       [ 0.99392928],\n",
       "       [-1.29188971],\n",
       "       [ 0.66832714],\n",
       "       [-0.80542545],\n",
       "       [ 0.83480162],\n",
       "       [-1.32243455],\n",
       "       [ 0.76900994],\n",
       "       [-1.29188971],\n",
       "       [-1.57127976],\n",
       "       [ 1.21884862],\n",
       "       [-1.63675858],\n",
       "       [ 0.29505932],\n",
       "       [-0.58050611],\n",
       "       [ 0.48993275],\n",
       "       [-1.19801194],\n",
       "       [-1.48018348],\n",
       "       [-0.31476127],\n",
       "       [-0.57589892],\n",
       "       [ 1.89360665],\n",
       "       [-1.23441157],\n",
       "       [-1.44685715],\n",
       "       [ 0.31917126],\n",
       "       [-1.46432415],\n",
       "       [-1.82012497],\n",
       "       [-0.13066743],\n",
       "       [-1.46432415],\n",
       "       [ 1.16601756],\n",
       "       [-0.13066743],\n",
       "       [ 0.9497579 ],\n",
       "       [ 1.78813059],\n",
       "       [-0.35558677],\n",
       "       [ 1.40958306],\n",
       "       [ 0.79274974],\n",
       "       [-0.13066743],\n",
       "       [ 1.12219234],\n",
       "       [-0.07820849],\n",
       "       [-0.80542545],\n",
       "       [ 0.71984533],\n",
       "       [-1.32243455],\n",
       "       [ 0.09425191],\n",
       "       [-1.29188971],\n",
       "       [-0.94916673],\n",
       "       [-1.25526414],\n",
       "       [-0.4871957 ],\n",
       "       [ 1.29044016],\n",
       "       [ 0.09425191],\n",
       "       [ 0.71984533],\n",
       "       [-0.07820849],\n",
       "       [-1.03034479],\n",
       "       [ 0.08758574],\n",
       "       [-0.2026311 ],\n",
       "       [ 1.66868731],\n",
       "       [-1.23441157],\n",
       "       [-1.07358934],\n",
       "       [ 0.5440906 ],\n",
       "       [-1.406846  ],\n",
       "       [ 0.29505932],\n",
       "       [-0.13066743],\n",
       "       [ 0.43245461],\n",
       "       [ 1.04159495],\n",
       "       [ 0.09425191],\n",
       "       [ 0.48993275],\n",
       "       [ 0.29505932],\n",
       "       [-1.03034479],\n",
       "       [ 1.00723605],\n",
       "       [-1.19801194],\n",
       "       [-1.25526414],\n",
       "       [ 0.37497646],\n",
       "       [ 0.79274974],\n",
       "       [-0.13066743],\n",
       "       [ 0.77732347],\n",
       "       [-1.07358934],\n",
       "       [-2.37986085],\n",
       "       [-0.19980498],\n",
       "       [-0.45147631],\n",
       "       [ 0.99392928],\n",
       "       [-1.46432415],\n",
       "       [ 1.41486277],\n",
       "       [ 0.31917126],\n",
       "       [ 0.48993275],\n",
       "       [ 1.66370798],\n",
       "       [ 1.21884862],\n",
       "       [ 1.29462677],\n",
       "       [-1.57127976],\n",
       "       [ 0.31917126],\n",
       "       [-1.406846  ],\n",
       "       [-0.70032152],\n",
       "       [ 1.44376797],\n",
       "       [-1.34936786],\n",
       "       [-1.19801194],\n",
       "       [-0.13066743],\n",
       "       [-1.406846  ],\n",
       "       [ 2.53466622],\n",
       "       [ 1.66868731],\n",
       "       [ 1.4670612 ],\n",
       "       [-1.32243455],\n",
       "       [-0.13066743],\n",
       "       [-1.406846  ],\n",
       "       [-0.57589892],\n",
       "       [-0.13066743],\n",
       "       [ 0.37497646],\n",
       "       [ 1.04159495],\n",
       "       [ 0.09425191],\n",
       "       [ 1.00723605],\n",
       "       [-0.32705371],\n",
       "       [-0.13066743],\n",
       "       [ 0.14506389],\n",
       "       [-1.57127976],\n",
       "       [ 0.09425191],\n",
       "       [-1.34936786],\n",
       "       [ 1.66370798],\n",
       "       [-0.13066743],\n",
       "       [ 1.12219234],\n",
       "       [-0.45147631],\n",
       "       [-1.25526414],\n",
       "       [ 0.08758574],\n",
       "       [ 0.04621411],\n",
       "       [-0.13066743],\n",
       "       [ 0.71984533],\n",
       "       [ 0.54390453],\n",
       "       [ 0.76900994],\n",
       "       [ 1.00723605],\n",
       "       [ 2.28582101],\n",
       "       [-1.03034479],\n",
       "       [ 1.75445192],\n",
       "       [ 0.04621411],\n",
       "       [-0.13066743],\n",
       "       [ 0.20254203],\n",
       "       [ 1.16601756],\n",
       "       [ 0.31917126],\n",
       "       [ 1.17967048],\n",
       "       [ 0.17063672],\n",
       "       [-1.93002216],\n",
       "       [ 0.08758574],\n",
       "       [ 0.66832714],\n",
       "       [-0.58050611],\n",
       "       [ 1.00723605]])"
      ]
     },
     "execution_count": 154,
     "metadata": {},
     "output_type": "execute_result"
    }
   ],
   "source": [
    "X_scaled = np.array(X_scaled)\n",
    "X_scaled.reshape(-1,1)"
   ]
  },
  {
   "cell_type": "markdown",
   "id": "9d54725d",
   "metadata": {},
   "source": [
    "# Lasso Regression"
   ]
  },
  {
   "cell_type": "code",
   "execution_count": 155,
   "id": "6ae5ff38",
   "metadata": {},
   "outputs": [
    {
     "data": {
      "text/html": [
       "<style>#sk-container-id-9 {color: black;}#sk-container-id-9 pre{padding: 0;}#sk-container-id-9 div.sk-toggleable {background-color: white;}#sk-container-id-9 label.sk-toggleable__label {cursor: pointer;display: block;width: 100%;margin-bottom: 0;padding: 0.3em;box-sizing: border-box;text-align: center;}#sk-container-id-9 label.sk-toggleable__label-arrow:before {content: \"▸\";float: left;margin-right: 0.25em;color: #696969;}#sk-container-id-9 label.sk-toggleable__label-arrow:hover:before {color: black;}#sk-container-id-9 div.sk-estimator:hover label.sk-toggleable__label-arrow:before {color: black;}#sk-container-id-9 div.sk-toggleable__content {max-height: 0;max-width: 0;overflow: hidden;text-align: left;background-color: #f0f8ff;}#sk-container-id-9 div.sk-toggleable__content pre {margin: 0.2em;color: black;border-radius: 0.25em;background-color: #f0f8ff;}#sk-container-id-9 input.sk-toggleable__control:checked~div.sk-toggleable__content {max-height: 200px;max-width: 100%;overflow: auto;}#sk-container-id-9 input.sk-toggleable__control:checked~label.sk-toggleable__label-arrow:before {content: \"▾\";}#sk-container-id-9 div.sk-estimator input.sk-toggleable__control:checked~label.sk-toggleable__label {background-color: #d4ebff;}#sk-container-id-9 div.sk-label input.sk-toggleable__control:checked~label.sk-toggleable__label {background-color: #d4ebff;}#sk-container-id-9 input.sk-hidden--visually {border: 0;clip: rect(1px 1px 1px 1px);clip: rect(1px, 1px, 1px, 1px);height: 1px;margin: -1px;overflow: hidden;padding: 0;position: absolute;width: 1px;}#sk-container-id-9 div.sk-estimator {font-family: monospace;background-color: #f0f8ff;border: 1px dotted black;border-radius: 0.25em;box-sizing: border-box;margin-bottom: 0.5em;}#sk-container-id-9 div.sk-estimator:hover {background-color: #d4ebff;}#sk-container-id-9 div.sk-parallel-item::after {content: \"\";width: 100%;border-bottom: 1px solid gray;flex-grow: 1;}#sk-container-id-9 div.sk-label:hover label.sk-toggleable__label {background-color: #d4ebff;}#sk-container-id-9 div.sk-serial::before {content: \"\";position: absolute;border-left: 1px solid gray;box-sizing: border-box;top: 0;bottom: 0;left: 50%;z-index: 0;}#sk-container-id-9 div.sk-serial {display: flex;flex-direction: column;align-items: center;background-color: white;padding-right: 0.2em;padding-left: 0.2em;position: relative;}#sk-container-id-9 div.sk-item {position: relative;z-index: 1;}#sk-container-id-9 div.sk-parallel {display: flex;align-items: stretch;justify-content: center;background-color: white;position: relative;}#sk-container-id-9 div.sk-item::before, #sk-container-id-9 div.sk-parallel-item::before {content: \"\";position: absolute;border-left: 1px solid gray;box-sizing: border-box;top: 0;bottom: 0;left: 50%;z-index: -1;}#sk-container-id-9 div.sk-parallel-item {display: flex;flex-direction: column;z-index: 1;position: relative;background-color: white;}#sk-container-id-9 div.sk-parallel-item:first-child::after {align-self: flex-end;width: 50%;}#sk-container-id-9 div.sk-parallel-item:last-child::after {align-self: flex-start;width: 50%;}#sk-container-id-9 div.sk-parallel-item:only-child::after {width: 0;}#sk-container-id-9 div.sk-dashed-wrapped {border: 1px dashed gray;margin: 0 0.4em 0.5em 0.4em;box-sizing: border-box;padding-bottom: 0.4em;background-color: white;}#sk-container-id-9 div.sk-label label {font-family: monospace;font-weight: bold;display: inline-block;line-height: 1.2em;}#sk-container-id-9 div.sk-label-container {text-align: center;}#sk-container-id-9 div.sk-container {/* jupyter's `normalize.less` sets `[hidden] { display: none; }` but bootstrap.min.css set `[hidden] { display: none !important; }` so we also need the `!important` here to be able to override the default hidden behavior on the sphinx rendered scikit-learn.org. See: https://github.com/scikit-learn/scikit-learn/issues/21755 */display: inline-block !important;position: relative;}#sk-container-id-9 div.sk-text-repr-fallback {display: none;}</style><div id=\"sk-container-id-9\" class=\"sk-top-container\"><div class=\"sk-text-repr-fallback\"><pre>Pipeline(steps=[(&#x27;scalar&#x27;, StandardScaler()), (&#x27;poly&#x27;, PolynomialFeatures()),\n",
       "                (&#x27;model&#x27;, Lasso(alpha=0.012, max_iter=3000))])</pre><b>In a Jupyter environment, please rerun this cell to show the HTML representation or trust the notebook. <br />On GitHub, the HTML representation is unable to render, please try loading this page with nbviewer.org.</b></div><div class=\"sk-container\" hidden><div class=\"sk-item sk-dashed-wrapped\"><div class=\"sk-label-container\"><div class=\"sk-label sk-toggleable\"><input class=\"sk-toggleable__control sk-hidden--visually\" id=\"sk-estimator-id-12\" type=\"checkbox\" ><label for=\"sk-estimator-id-12\" class=\"sk-toggleable__label sk-toggleable__label-arrow\">Pipeline</label><div class=\"sk-toggleable__content\"><pre>Pipeline(steps=[(&#x27;scalar&#x27;, StandardScaler()), (&#x27;poly&#x27;, PolynomialFeatures()),\n",
       "                (&#x27;model&#x27;, Lasso(alpha=0.012, max_iter=3000))])</pre></div></div></div><div class=\"sk-serial\"><div class=\"sk-item\"><div class=\"sk-estimator sk-toggleable\"><input class=\"sk-toggleable__control sk-hidden--visually\" id=\"sk-estimator-id-13\" type=\"checkbox\" ><label for=\"sk-estimator-id-13\" class=\"sk-toggleable__label sk-toggleable__label-arrow\">StandardScaler</label><div class=\"sk-toggleable__content\"><pre>StandardScaler()</pre></div></div></div><div class=\"sk-item\"><div class=\"sk-estimator sk-toggleable\"><input class=\"sk-toggleable__control sk-hidden--visually\" id=\"sk-estimator-id-14\" type=\"checkbox\" ><label for=\"sk-estimator-id-14\" class=\"sk-toggleable__label sk-toggleable__label-arrow\">PolynomialFeatures</label><div class=\"sk-toggleable__content\"><pre>PolynomialFeatures()</pre></div></div></div><div class=\"sk-item\"><div class=\"sk-estimator sk-toggleable\"><input class=\"sk-toggleable__control sk-hidden--visually\" id=\"sk-estimator-id-15\" type=\"checkbox\" ><label for=\"sk-estimator-id-15\" class=\"sk-toggleable__label sk-toggleable__label-arrow\">Lasso</label><div class=\"sk-toggleable__content\"><pre>Lasso(alpha=0.012, max_iter=3000)</pre></div></div></div></div></div></div></div>"
      ],
      "text/plain": [
       "Pipeline(steps=[('scalar', StandardScaler()), ('poly', PolynomialFeatures()),\n",
       "                ('model', Lasso(alpha=0.012, max_iter=3000))])"
      ]
     },
     "execution_count": 155,
     "metadata": {},
     "output_type": "execute_result"
    }
   ],
   "source": [
    "from sklearn.linear_model import Lasso\n",
    "from sklearn.preprocessing import StandardScaler\n",
    "from sklearn.pipeline import Pipeline\n",
    "from sklearn.preprocessing import PolynomialFeatures\n",
    "\n",
    "steps = [\n",
    "    ('scalar', StandardScaler()),\n",
    "    ('poly', PolynomialFeatures(degree=2)),\n",
    "    ('model', Lasso(alpha=0.012, fit_intercept=True, max_iter=3000))\n",
    "]\n",
    "\n",
    "lasso_pipe = Pipeline(steps)\n",
    "lasso_pipe.fit(X_train, y_train)"
   ]
  },
  {
   "cell_type": "code",
   "execution_count": 156,
   "id": "779fd324",
   "metadata": {},
   "outputs": [
    {
     "name": "stdout",
     "output_type": "stream",
     "text": [
      "CV:  0.908149854672979\n",
      "R2_score (train):  0.9321883062344837\n",
      "R2_score (test):  0.9473264171021897\n",
      "RMSE:  0.16864499281102313\n"
     ]
    }
   ],
   "source": [
    "from sklearn.metrics import r2_score\n",
    "\n",
    "# Predicting Cross Validation Score\n",
    "cv_lasso = cross_val_score(estimator = lasso_pipe, X = X_train, y = y_train, cv = 10)\n",
    "\n",
    "# Predicting R2 Score the Test set results\n",
    "y_pred_lasso_train = lasso_pipe.predict(X_train)\n",
    "r2_score_lasso_train = r2_score(y_train, y_pred_lasso_train)\n",
    "\n",
    "# Predicting R2 Score the Test set results\n",
    "y_pred_lasso_test = lasso_pipe.predict(X_test)\n",
    "r2_score_lasso_test = r2_score(y_test, y_pred_lasso_test)\n",
    "\n",
    "# Predicting RMSE the Test set results\n",
    "rmse_lasso = (np.sqrt(mean_squared_error(y_test, y_pred_lasso_test)))\n",
    "print('CV: ', cv_lasso.mean())\n",
    "print('R2_score (train): ', r2_score_lasso_train)\n",
    "print('R2_score (test): ', r2_score_lasso_test)\n",
    "print(\"RMSE: \", rmse_lasso)"
   ]
  },
  {
   "cell_type": "markdown",
   "id": "d0fa41d0",
   "metadata": {},
   "source": [
    "## Decision Tree Regression "
   ]
  },
  {
   "cell_type": "code",
   "execution_count": 157,
   "id": "8d68acb8",
   "metadata": {},
   "outputs": [
    {
     "data": {
      "text/html": [
       "<style>#sk-container-id-10 {color: black;}#sk-container-id-10 pre{padding: 0;}#sk-container-id-10 div.sk-toggleable {background-color: white;}#sk-container-id-10 label.sk-toggleable__label {cursor: pointer;display: block;width: 100%;margin-bottom: 0;padding: 0.3em;box-sizing: border-box;text-align: center;}#sk-container-id-10 label.sk-toggleable__label-arrow:before {content: \"▸\";float: left;margin-right: 0.25em;color: #696969;}#sk-container-id-10 label.sk-toggleable__label-arrow:hover:before {color: black;}#sk-container-id-10 div.sk-estimator:hover label.sk-toggleable__label-arrow:before {color: black;}#sk-container-id-10 div.sk-toggleable__content {max-height: 0;max-width: 0;overflow: hidden;text-align: left;background-color: #f0f8ff;}#sk-container-id-10 div.sk-toggleable__content pre {margin: 0.2em;color: black;border-radius: 0.25em;background-color: #f0f8ff;}#sk-container-id-10 input.sk-toggleable__control:checked~div.sk-toggleable__content {max-height: 200px;max-width: 100%;overflow: auto;}#sk-container-id-10 input.sk-toggleable__control:checked~label.sk-toggleable__label-arrow:before {content: \"▾\";}#sk-container-id-10 div.sk-estimator input.sk-toggleable__control:checked~label.sk-toggleable__label {background-color: #d4ebff;}#sk-container-id-10 div.sk-label input.sk-toggleable__control:checked~label.sk-toggleable__label {background-color: #d4ebff;}#sk-container-id-10 input.sk-hidden--visually {border: 0;clip: rect(1px 1px 1px 1px);clip: rect(1px, 1px, 1px, 1px);height: 1px;margin: -1px;overflow: hidden;padding: 0;position: absolute;width: 1px;}#sk-container-id-10 div.sk-estimator {font-family: monospace;background-color: #f0f8ff;border: 1px dotted black;border-radius: 0.25em;box-sizing: border-box;margin-bottom: 0.5em;}#sk-container-id-10 div.sk-estimator:hover {background-color: #d4ebff;}#sk-container-id-10 div.sk-parallel-item::after {content: \"\";width: 100%;border-bottom: 1px solid gray;flex-grow: 1;}#sk-container-id-10 div.sk-label:hover label.sk-toggleable__label {background-color: #d4ebff;}#sk-container-id-10 div.sk-serial::before {content: \"\";position: absolute;border-left: 1px solid gray;box-sizing: border-box;top: 0;bottom: 0;left: 50%;z-index: 0;}#sk-container-id-10 div.sk-serial {display: flex;flex-direction: column;align-items: center;background-color: white;padding-right: 0.2em;padding-left: 0.2em;position: relative;}#sk-container-id-10 div.sk-item {position: relative;z-index: 1;}#sk-container-id-10 div.sk-parallel {display: flex;align-items: stretch;justify-content: center;background-color: white;position: relative;}#sk-container-id-10 div.sk-item::before, #sk-container-id-10 div.sk-parallel-item::before {content: \"\";position: absolute;border-left: 1px solid gray;box-sizing: border-box;top: 0;bottom: 0;left: 50%;z-index: -1;}#sk-container-id-10 div.sk-parallel-item {display: flex;flex-direction: column;z-index: 1;position: relative;background-color: white;}#sk-container-id-10 div.sk-parallel-item:first-child::after {align-self: flex-end;width: 50%;}#sk-container-id-10 div.sk-parallel-item:last-child::after {align-self: flex-start;width: 50%;}#sk-container-id-10 div.sk-parallel-item:only-child::after {width: 0;}#sk-container-id-10 div.sk-dashed-wrapped {border: 1px dashed gray;margin: 0 0.4em 0.5em 0.4em;box-sizing: border-box;padding-bottom: 0.4em;background-color: white;}#sk-container-id-10 div.sk-label label {font-family: monospace;font-weight: bold;display: inline-block;line-height: 1.2em;}#sk-container-id-10 div.sk-label-container {text-align: center;}#sk-container-id-10 div.sk-container {/* jupyter's `normalize.less` sets `[hidden] { display: none; }` but bootstrap.min.css set `[hidden] { display: none !important; }` so we also need the `!important` here to be able to override the default hidden behavior on the sphinx rendered scikit-learn.org. See: https://github.com/scikit-learn/scikit-learn/issues/21755 */display: inline-block !important;position: relative;}#sk-container-id-10 div.sk-text-repr-fallback {display: none;}</style><div id=\"sk-container-id-10\" class=\"sk-top-container\"><div class=\"sk-text-repr-fallback\"><pre>DecisionTreeRegressor(random_state=0)</pre><b>In a Jupyter environment, please rerun this cell to show the HTML representation or trust the notebook. <br />On GitHub, the HTML representation is unable to render, please try loading this page with nbviewer.org.</b></div><div class=\"sk-container\" hidden><div class=\"sk-item\"><div class=\"sk-estimator sk-toggleable\"><input class=\"sk-toggleable__control sk-hidden--visually\" id=\"sk-estimator-id-16\" type=\"checkbox\" checked><label for=\"sk-estimator-id-16\" class=\"sk-toggleable__label sk-toggleable__label-arrow\">DecisionTreeRegressor</label><div class=\"sk-toggleable__content\"><pre>DecisionTreeRegressor(random_state=0)</pre></div></div></div></div></div>"
      ],
      "text/plain": [
       "DecisionTreeRegressor(random_state=0)"
      ]
     },
     "execution_count": 157,
     "metadata": {},
     "output_type": "execute_result"
    }
   ],
   "source": [
    "# Fitting the Decision Tree Regression Model to the dataset\n",
    "from sklearn.tree import DecisionTreeRegressor\n",
    "regressor_dt = DecisionTreeRegressor(random_state = 0)\n",
    "regressor_dt.fit(X_train, y_train)"
   ]
  },
  {
   "cell_type": "code",
   "execution_count": 158,
   "id": "5dba89a3",
   "metadata": {},
   "outputs": [
    {
     "name": "stdout",
     "output_type": "stream",
     "text": [
      "CV:  0.8610538311071778\n",
      "R2_score (train):  0.9983898570193033\n",
      "R2_score (test):  0.9004024144869216\n",
      "RMSE:  0.23190036174568113\n"
     ]
    }
   ],
   "source": [
    "from sklearn.metrics import r2_score\n",
    "\n",
    "# Predicting Cross Validation Score\n",
    "cv_dt = cross_val_score(estimator = regressor_dt, X = X_train, y = y_train, cv = 10)\n",
    "\n",
    "# Predicting R2 Score the Train set results\n",
    "y_pred_dt_train = regressor_dt.predict(X_train)\n",
    "r2_score_dt_train = r2_score(y_train, y_pred_dt_train)\n",
    "\n",
    "# Predicting R2 Score the Test set results\n",
    "y_pred_dt_test = regressor_dt.predict(X_test)\n",
    "r2_score_dt_test = r2_score(y_test, y_pred_dt_test)\n",
    "\n",
    "# Predicting RMSE the Test set results\n",
    "rmse_dt = (np.sqrt(mean_squared_error(y_test, y_pred_dt_test)))\n",
    "print('CV: ', cv_dt.mean())\n",
    "print('R2_score (train): ', r2_score_dt_train)\n",
    "print('R2_score (test): ', r2_score_dt_test)\n",
    "print(\"RMSE: \", rmse_dt)"
   ]
  },
  {
   "cell_type": "markdown",
   "id": "e4badb63",
   "metadata": {},
   "source": [
    "## Random Forest Regression "
   ]
  },
  {
   "cell_type": "code",
   "execution_count": 159,
   "id": "18a37fe8",
   "metadata": {},
   "outputs": [
    {
     "data": {
      "text/html": [
       "<style>#sk-container-id-11 {color: black;}#sk-container-id-11 pre{padding: 0;}#sk-container-id-11 div.sk-toggleable {background-color: white;}#sk-container-id-11 label.sk-toggleable__label {cursor: pointer;display: block;width: 100%;margin-bottom: 0;padding: 0.3em;box-sizing: border-box;text-align: center;}#sk-container-id-11 label.sk-toggleable__label-arrow:before {content: \"▸\";float: left;margin-right: 0.25em;color: #696969;}#sk-container-id-11 label.sk-toggleable__label-arrow:hover:before {color: black;}#sk-container-id-11 div.sk-estimator:hover label.sk-toggleable__label-arrow:before {color: black;}#sk-container-id-11 div.sk-toggleable__content {max-height: 0;max-width: 0;overflow: hidden;text-align: left;background-color: #f0f8ff;}#sk-container-id-11 div.sk-toggleable__content pre {margin: 0.2em;color: black;border-radius: 0.25em;background-color: #f0f8ff;}#sk-container-id-11 input.sk-toggleable__control:checked~div.sk-toggleable__content {max-height: 200px;max-width: 100%;overflow: auto;}#sk-container-id-11 input.sk-toggleable__control:checked~label.sk-toggleable__label-arrow:before {content: \"▾\";}#sk-container-id-11 div.sk-estimator input.sk-toggleable__control:checked~label.sk-toggleable__label {background-color: #d4ebff;}#sk-container-id-11 div.sk-label input.sk-toggleable__control:checked~label.sk-toggleable__label {background-color: #d4ebff;}#sk-container-id-11 input.sk-hidden--visually {border: 0;clip: rect(1px 1px 1px 1px);clip: rect(1px, 1px, 1px, 1px);height: 1px;margin: -1px;overflow: hidden;padding: 0;position: absolute;width: 1px;}#sk-container-id-11 div.sk-estimator {font-family: monospace;background-color: #f0f8ff;border: 1px dotted black;border-radius: 0.25em;box-sizing: border-box;margin-bottom: 0.5em;}#sk-container-id-11 div.sk-estimator:hover {background-color: #d4ebff;}#sk-container-id-11 div.sk-parallel-item::after {content: \"\";width: 100%;border-bottom: 1px solid gray;flex-grow: 1;}#sk-container-id-11 div.sk-label:hover label.sk-toggleable__label {background-color: #d4ebff;}#sk-container-id-11 div.sk-serial::before {content: \"\";position: absolute;border-left: 1px solid gray;box-sizing: border-box;top: 0;bottom: 0;left: 50%;z-index: 0;}#sk-container-id-11 div.sk-serial {display: flex;flex-direction: column;align-items: center;background-color: white;padding-right: 0.2em;padding-left: 0.2em;position: relative;}#sk-container-id-11 div.sk-item {position: relative;z-index: 1;}#sk-container-id-11 div.sk-parallel {display: flex;align-items: stretch;justify-content: center;background-color: white;position: relative;}#sk-container-id-11 div.sk-item::before, #sk-container-id-11 div.sk-parallel-item::before {content: \"\";position: absolute;border-left: 1px solid gray;box-sizing: border-box;top: 0;bottom: 0;left: 50%;z-index: -1;}#sk-container-id-11 div.sk-parallel-item {display: flex;flex-direction: column;z-index: 1;position: relative;background-color: white;}#sk-container-id-11 div.sk-parallel-item:first-child::after {align-self: flex-end;width: 50%;}#sk-container-id-11 div.sk-parallel-item:last-child::after {align-self: flex-start;width: 50%;}#sk-container-id-11 div.sk-parallel-item:only-child::after {width: 0;}#sk-container-id-11 div.sk-dashed-wrapped {border: 1px dashed gray;margin: 0 0.4em 0.5em 0.4em;box-sizing: border-box;padding-bottom: 0.4em;background-color: white;}#sk-container-id-11 div.sk-label label {font-family: monospace;font-weight: bold;display: inline-block;line-height: 1.2em;}#sk-container-id-11 div.sk-label-container {text-align: center;}#sk-container-id-11 div.sk-container {/* jupyter's `normalize.less` sets `[hidden] { display: none; }` but bootstrap.min.css set `[hidden] { display: none !important; }` so we also need the `!important` here to be able to override the default hidden behavior on the sphinx rendered scikit-learn.org. See: https://github.com/scikit-learn/scikit-learn/issues/21755 */display: inline-block !important;position: relative;}#sk-container-id-11 div.sk-text-repr-fallback {display: none;}</style><div id=\"sk-container-id-11\" class=\"sk-top-container\"><div class=\"sk-text-repr-fallback\"><pre>RandomForestRegressor(n_estimators=500, random_state=0)</pre><b>In a Jupyter environment, please rerun this cell to show the HTML representation or trust the notebook. <br />On GitHub, the HTML representation is unable to render, please try loading this page with nbviewer.org.</b></div><div class=\"sk-container\" hidden><div class=\"sk-item\"><div class=\"sk-estimator sk-toggleable\"><input class=\"sk-toggleable__control sk-hidden--visually\" id=\"sk-estimator-id-17\" type=\"checkbox\" checked><label for=\"sk-estimator-id-17\" class=\"sk-toggleable__label sk-toggleable__label-arrow\">RandomForestRegressor</label><div class=\"sk-toggleable__content\"><pre>RandomForestRegressor(n_estimators=500, random_state=0)</pre></div></div></div></div></div>"
      ],
      "text/plain": [
       "RandomForestRegressor(n_estimators=500, random_state=0)"
      ]
     },
     "execution_count": 159,
     "metadata": {},
     "output_type": "execute_result"
    }
   ],
   "source": [
    "# Fitting the Random Forest Regression to the dataset\n",
    "from sklearn.ensemble import RandomForestRegressor\n",
    "regressor_rf = RandomForestRegressor(n_estimators = 500, random_state = 0)\n",
    "regressor_rf.fit(X_train, y_train.ravel())"
   ]
  },
  {
   "cell_type": "code",
   "execution_count": 160,
   "id": "d7d174db",
   "metadata": {},
   "outputs": [
    {
     "name": "stdout",
     "output_type": "stream",
     "text": [
      "CV:  0.9098266497620026\n",
      "R2_score (train):  0.9894265832132042\n",
      "R2_score (test):  0.9440805230756256\n",
      "RMSE:  0.17376350619019967\n"
     ]
    }
   ],
   "source": [
    "from sklearn.metrics import r2_score\n",
    "\n",
    "# Predicting Cross Validation Score\n",
    "cv_rf = cross_val_score(estimator = regressor_rf, X = X_scaled, y = y_train.ravel(), cv = 10)\n",
    "\n",
    "# Predicting R2 Score the Train set results\n",
    "y_pred_rf_train = regressor_rf.predict(X_train)\n",
    "r2_score_rf_train = r2_score(y_train, y_pred_rf_train)\n",
    "\n",
    "# Predicting R2 Score the Test set results\n",
    "y_pred_rf_test = regressor_rf.predict(X_test)\n",
    "r2_score_rf_test = r2_score(y_test, y_pred_rf_test)\n",
    "\n",
    "# Predicting RMSE the Test set results\n",
    "rmse_rf = (np.sqrt(mean_squared_error(y_test, y_pred_rf_test)))\n",
    "print('CV: ', cv_rf.mean())\n",
    "print('R2_score (train): ', r2_score_rf_train)\n",
    "print('R2_score (test): ', r2_score_rf_test)\n",
    "print(\"RMSE: \", rmse_rf)"
   ]
  },
  {
   "cell_type": "code",
   "execution_count": 161,
   "id": "8cab9a7d",
   "metadata": {},
   "outputs": [],
   "source": [
    "models = [('Linear Regression', rmse_linear, r2_score_linear_train, r2_score_linear_test, cv_linear.mean()),\n",
    "          ('Lasso Regression', rmse_lasso, r2_score_lasso_train, r2_score_lasso_test, cv_lasso.mean()),\n",
    "          # ('Support Vector Regression', rmse_svr, r2_score_svr_train, r2_score_svr_test, cv_svr.mean()),\n",
    "          ('Decision Tree Regression', rmse_dt, r2_score_dt_train, r2_score_dt_test, cv_dt.mean()),\n",
    "          ('Random Forest Regression', rmse_rf, r2_score_rf_train, r2_score_rf_test, cv_rf.mean())   \n",
    "         ]"
   ]
  },
  {
   "cell_type": "code",
   "execution_count": 162,
   "id": "b8206958",
   "metadata": {},
   "outputs": [
    {
     "data": {
      "text/html": [
       "<div>\n",
       "<style scoped>\n",
       "    .dataframe tbody tr th:only-of-type {\n",
       "        vertical-align: middle;\n",
       "    }\n",
       "\n",
       "    .dataframe tbody tr th {\n",
       "        vertical-align: top;\n",
       "    }\n",
       "\n",
       "    .dataframe thead th {\n",
       "        text-align: right;\n",
       "    }\n",
       "</style>\n",
       "<table border=\"1\" class=\"dataframe\">\n",
       "  <thead>\n",
       "    <tr style=\"text-align: right;\">\n",
       "      <th></th>\n",
       "      <th>Model</th>\n",
       "      <th>RMSE</th>\n",
       "      <th>R2_Score(training)</th>\n",
       "      <th>R2_Score(test)</th>\n",
       "      <th>Cross-Validation</th>\n",
       "    </tr>\n",
       "  </thead>\n",
       "  <tbody>\n",
       "    <tr>\n",
       "      <th>0</th>\n",
       "      <td>Linear Regression</td>\n",
       "      <td>0.173272</td>\n",
       "      <td>0.933951</td>\n",
       "      <td>0.944396</td>\n",
       "      <td>0.914542</td>\n",
       "    </tr>\n",
       "    <tr>\n",
       "      <th>1</th>\n",
       "      <td>Lasso Regression</td>\n",
       "      <td>0.168645</td>\n",
       "      <td>0.932188</td>\n",
       "      <td>0.947326</td>\n",
       "      <td>0.908150</td>\n",
       "    </tr>\n",
       "    <tr>\n",
       "      <th>2</th>\n",
       "      <td>Decision Tree Regression</td>\n",
       "      <td>0.231900</td>\n",
       "      <td>0.998390</td>\n",
       "      <td>0.900402</td>\n",
       "      <td>0.861054</td>\n",
       "    </tr>\n",
       "    <tr>\n",
       "      <th>3</th>\n",
       "      <td>Random Forest Regression</td>\n",
       "      <td>0.173764</td>\n",
       "      <td>0.989427</td>\n",
       "      <td>0.944081</td>\n",
       "      <td>0.909827</td>\n",
       "    </tr>\n",
       "  </tbody>\n",
       "</table>\n",
       "</div>"
      ],
      "text/plain": [
       "                      Model      RMSE  R2_Score(training)  R2_Score(test)  \\\n",
       "0         Linear Regression  0.173272            0.933951        0.944396   \n",
       "1          Lasso Regression  0.168645            0.932188        0.947326   \n",
       "2  Decision Tree Regression  0.231900            0.998390        0.900402   \n",
       "3  Random Forest Regression  0.173764            0.989427        0.944081   \n",
       "\n",
       "   Cross-Validation  \n",
       "0          0.914542  \n",
       "1          0.908150  \n",
       "2          0.861054  \n",
       "3          0.909827  "
      ]
     },
     "execution_count": 162,
     "metadata": {},
     "output_type": "execute_result"
    }
   ],
   "source": [
    "predict = pd.DataFrame(data = models, columns=['Model', 'RMSE', 'R2_Score(training)', 'R2_Score(test)', 'Cross-Validation'])\n",
    "predict"
   ]
  },
  {
   "cell_type": "code",
   "execution_count": 163,
   "id": "f6a446bd",
   "metadata": {},
   "outputs": [
    {
     "data": {
      "image/png": "[encoded data removed]",
      "text/plain": [
       "<Figure size 1800x600 with 1 Axes>"
      ]
     },
     "metadata": {},
     "output_type": "display_data"
    }
   ],
   "source": [
    "f, axe = plt.subplots(1,1, figsize=(18,6))\n",
    "\n",
    "predict.sort_values(by=['Cross-Validation'], ascending=False, inplace=True)\n",
    "\n",
    "sns.barplot(x='Cross-Validation', y='Model', data = predict, ax = axe)\n",
    "#axes[0].set(xlabel='Region', ylabel='Charges')\n",
    "axe.set_xlabel('Cross-Validaton Score', size=16)\n",
    "axe.set_ylabel('Model')\n",
    "axe.set_xlim(0,1.0)\n",
    "plt.show()"
   ]
  },
  {
   "cell_type": "code",
   "execution_count": 164,
   "id": "977aa378",
   "metadata": {},
   "outputs": [
    {
     "data": {
      "image/png": "[encoded data removed]",
      "text/plain": [
       "<Figure size 1400x1000 with 2 Axes>"
      ]
     },
     "metadata": {},
     "output_type": "display_data"
    }
   ],
   "source": [
    "f, axes = plt.subplots(2,1, figsize=(14,10))\n",
    "\n",
    "predict.sort_values(by=['R2_Score(training)'], ascending=False, inplace=True)\n",
    "\n",
    "sns.barplot(x='R2_Score(training)', y='Model', data = predict, palette='Blues_d', ax = axes[0])\n",
    "#axes[0].set(xlabel='Region', ylabel='Charges')\n",
    "axes[0].set_xlabel('R2 Score (Training)', size=16)\n",
    "axes[0].set_ylabel('Model')\n",
    "axes[0].set_xlim(0,1.0)\n",
    "\n",
    "predict.sort_values(by=['R2_Score(test)'], ascending=False, inplace=True)\n",
    "\n",
    "sns.barplot(x='R2_Score(test)', y='Model', data = predict, palette='Reds_d', ax = axes[1])\n",
    "#axes[0].set(xlabel='Region', ylabel='Charges')\n",
    "axes[1].set_xlabel('R2 Score (Test)', size=16)\n",
    "axes[1].set_ylabel('Model')\n",
    "axes[1].set_xlim(0,1.0)\n",
    "\n",
    "plt.show()"
   ]
  },
  {
   "cell_type": "code",
   "execution_count": 165,
   "id": "b5b864dd",
   "metadata": {},
   "outputs": [
    {
     "data": {
      "image/png": "[encoded data removed]",
      "text/plain": [
       "<Figure size 1800x600 with 1 Axes>"
      ]
     },
     "metadata": {},
     "output_type": "display_data"
    }
   ],
   "source": [
    "predict.sort_values(by=['RMSE'], ascending=False, inplace=True)\n",
    "\n",
    "f, axe = plt.subplots(1,1, figsize=(18,6))\n",
    "sns.barplot(x='Model', y='RMSE', data=predict, ax = axe)\n",
    "axe.set_xlabel('Model', size=16)\n",
    "axe.set_ylabel('RMSE', size=16)\n",
    "\n",
    "plt.show()"
   ]
  },
  {
   "cell_type": "code",
   "execution_count": 166,
   "id": "6635ee1e",
   "metadata": {},
   "outputs": [],
   "source": [
    "from sklearn.model_selection import train_test_split\n",
    "from sklearn.linear_model import LogisticRegression\n",
    "from sklearn.metrics import accuracy_score, classification_report, confusion_matrix"
   ]
  },
  {
   "cell_type": "code",
   "execution_count": 167,
   "id": "07550e84",
   "metadata": {},
   "outputs": [],
   "source": [
    "X = iris.data\n",
    "y = iris.target"
   ]
  },
  {
   "cell_type": "code",
   "execution_count": 168,
   "id": "b74a02fa",
   "metadata": {},
   "outputs": [],
   "source": [
    "# Split the dataset into training and testing sets\n",
    "X_train, X_test, y_train, y_test = train_test_split(X, y, test_size=0.2, random_state=42)\n"
   ]
  },
  {
   "cell_type": "markdown",
   "id": "84c0a24c",
   "metadata": {},
   "source": [
    "# Logistic Regression"
   ]
  },
  {
   "cell_type": "code",
   "execution_count": 169,
   "id": "172435c8",
   "metadata": {},
   "outputs": [
    {
     "data": {
      "text/html": [
       "<style>#sk-container-id-12 {color: black;}#sk-container-id-12 pre{padding: 0;}#sk-container-id-12 div.sk-toggleable {background-color: white;}#sk-container-id-12 label.sk-toggleable__label {cursor: pointer;display: block;width: 100%;margin-bottom: 0;padding: 0.3em;box-sizing: border-box;text-align: center;}#sk-container-id-12 label.sk-toggleable__label-arrow:before {content: \"▸\";float: left;margin-right: 0.25em;color: #696969;}#sk-container-id-12 label.sk-toggleable__label-arrow:hover:before {color: black;}#sk-container-id-12 div.sk-estimator:hover label.sk-toggleable__label-arrow:before {color: black;}#sk-container-id-12 div.sk-toggleable__content {max-height: 0;max-width: 0;overflow: hidden;text-align: left;background-color: #f0f8ff;}#sk-container-id-12 div.sk-toggleable__content pre {margin: 0.2em;color: black;border-radius: 0.25em;background-color: #f0f8ff;}#sk-container-id-12 input.sk-toggleable__control:checked~div.sk-toggleable__content {max-height: 200px;max-width: 100%;overflow: auto;}#sk-container-id-12 input.sk-toggleable__control:checked~label.sk-toggleable__label-arrow:before {content: \"▾\";}#sk-container-id-12 div.sk-estimator input.sk-toggleable__control:checked~label.sk-toggleable__label {background-color: #d4ebff;}#sk-container-id-12 div.sk-label input.sk-toggleable__control:checked~label.sk-toggleable__label {background-color: #d4ebff;}#sk-container-id-12 input.sk-hidden--visually {border: 0;clip: rect(1px 1px 1px 1px);clip: rect(1px, 1px, 1px, 1px);height: 1px;margin: -1px;overflow: hidden;padding: 0;position: absolute;width: 1px;}#sk-container-id-12 div.sk-estimator {font-family: monospace;background-color: #f0f8ff;border: 1px dotted black;border-radius: 0.25em;box-sizing: border-box;margin-bottom: 0.5em;}#sk-container-id-12 div.sk-estimator:hover {background-color: #d4ebff;}#sk-container-id-12 div.sk-parallel-item::after {content: \"\";width: 100%;border-bottom: 1px solid gray;flex-grow: 1;}#sk-container-id-12 div.sk-label:hover label.sk-toggleable__label {background-color: #d4ebff;}#sk-container-id-12 div.sk-serial::before {content: \"\";position: absolute;border-left: 1px solid gray;box-sizing: border-box;top: 0;bottom: 0;left: 50%;z-index: 0;}#sk-container-id-12 div.sk-serial {display: flex;flex-direction: column;align-items: center;background-color: white;padding-right: 0.2em;padding-left: 0.2em;position: relative;}#sk-container-id-12 div.sk-item {position: relative;z-index: 1;}#sk-container-id-12 div.sk-parallel {display: flex;align-items: stretch;justify-content: center;background-color: white;position: relative;}#sk-container-id-12 div.sk-item::before, #sk-container-id-12 div.sk-parallel-item::before {content: \"\";position: absolute;border-left: 1px solid gray;box-sizing: border-box;top: 0;bottom: 0;left: 50%;z-index: -1;}#sk-container-id-12 div.sk-parallel-item {display: flex;flex-direction: column;z-index: 1;position: relative;background-color: white;}#sk-container-id-12 div.sk-parallel-item:first-child::after {align-self: flex-end;width: 50%;}#sk-container-id-12 div.sk-parallel-item:last-child::after {align-self: flex-start;width: 50%;}#sk-container-id-12 div.sk-parallel-item:only-child::after {width: 0;}#sk-container-id-12 div.sk-dashed-wrapped {border: 1px dashed gray;margin: 0 0.4em 0.5em 0.4em;box-sizing: border-box;padding-bottom: 0.4em;background-color: white;}#sk-container-id-12 div.sk-label label {font-family: monospace;font-weight: bold;display: inline-block;line-height: 1.2em;}#sk-container-id-12 div.sk-label-container {text-align: center;}#sk-container-id-12 div.sk-container {/* jupyter's `normalize.less` sets `[hidden] { display: none; }` but bootstrap.min.css set `[hidden] { display: none !important; }` so we also need the `!important` here to be able to override the default hidden behavior on the sphinx rendered scikit-learn.org. See: https://github.com/scikit-learn/scikit-learn/issues/21755 */display: inline-block !important;position: relative;}#sk-container-id-12 div.sk-text-repr-fallback {display: none;}</style><div id=\"sk-container-id-12\" class=\"sk-top-container\"><div class=\"sk-text-repr-fallback\"><pre>LogisticRegression()</pre><b>In a Jupyter environment, please rerun this cell to show the HTML representation or trust the notebook. <br />On GitHub, the HTML representation is unable to render, please try loading this page with nbviewer.org.</b></div><div class=\"sk-container\" hidden><div class=\"sk-item\"><div class=\"sk-estimator sk-toggleable\"><input class=\"sk-toggleable__control sk-hidden--visually\" id=\"sk-estimator-id-18\" type=\"checkbox\" checked><label for=\"sk-estimator-id-18\" class=\"sk-toggleable__label sk-toggleable__label-arrow\">LogisticRegression</label><div class=\"sk-toggleable__content\"><pre>LogisticRegression()</pre></div></div></div></div></div>"
      ],
      "text/plain": [
       "LogisticRegression()"
      ]
     },
     "execution_count": 169,
     "metadata": {},
     "output_type": "execute_result"
    }
   ],
   "source": [
    "# Initialize and train the Logistic Regression model\n",
    "model = LogisticRegression()\n",
    "model.fit(X_train, y_train)"
   ]
  },
  {
   "cell_type": "code",
   "execution_count": 170,
   "id": "45c91149",
   "metadata": {},
   "outputs": [],
   "source": [
    "# Make predictions on the test set\n",
    "y_pred = model.predict(X_test)"
   ]
  },
  {
   "cell_type": "code",
   "execution_count": 171,
   "id": "f6624722",
   "metadata": {},
   "outputs": [
    {
     "name": "stdout",
     "output_type": "stream",
     "text": [
      "Accuracy: 1.0\n"
     ]
    }
   ],
   "source": [
    "# Evaluate the model\n",
    "accuracy = accuracy_score(y_test, y_pred)\n",
    "print(f\"Accuracy: {accuracy}\")"
   ]
  },
  {
   "cell_type": "code",
   "execution_count": 172,
   "id": "cd048a7d",
   "metadata": {},
   "outputs": [
    {
     "name": "stdout",
     "output_type": "stream",
     "text": [
      "\n",
      "Confusion Matrix:\n",
      "[[10  0  0]\n",
      " [ 0  9  0]\n",
      " [ 0  0 11]]\n"
     ]
    }
   ],
   "source": [
    "conf_matrix = confusion_matrix(y_test, y_pred)\n",
    "print(\"\\nConfusion Matrix:\")\n",
    "print(conf_matrix)"
   ]
  },
  {
   "cell_type": "markdown",
   "id": "1ba14b3f",
   "metadata": {},
   "source": [
    "# Classification_Report"
   ]
  },
  {
   "cell_type": "code",
   "execution_count": 173,
   "id": "a0ee6701",
   "metadata": {},
   "outputs": [
    {
     "name": "stdout",
     "output_type": "stream",
     "text": [
      "\n",
      "Classification Report:\n",
      "              precision    recall  f1-score   support\n",
      "\n",
      "           0       1.00      1.00      1.00        10\n",
      "           1       1.00      1.00      1.00         9\n",
      "           2       1.00      1.00      1.00        11\n",
      "\n",
      "    accuracy                           1.00        30\n",
      "   macro avg       1.00      1.00      1.00        30\n",
      "weighted avg       1.00      1.00      1.00        30\n",
      "\n"
     ]
    }
   ],
   "source": [
    "classification_rep = classification_report(y_test, y_pred)\n",
    "print(\"\\nClassification Report:\")\n",
    "print(classification_rep)"
   ]
  },
  {
   "cell_type": "markdown",
   "id": "4651c292",
   "metadata": {},
   "source": [
    "# Tensorflow"
   ]
  },
  {
   "cell_type": "code",
   "execution_count": 174,
   "id": "3d0567ef",
   "metadata": {},
   "outputs": [],
   "source": [
    "import tensorflow as tf\n",
    "from sklearn.model_selection import train_test_split\n",
    "from sklearn.preprocessing import StandardScaler"
   ]
  },
  {
   "cell_type": "code",
   "execution_count": 175,
   "id": "cafabd16",
   "metadata": {},
   "outputs": [],
   "source": [
    "# Standardize the features\n",
    "scaler = StandardScaler()\n",
    "X_train_scaled = scaler.fit_transform(X_train)\n",
    "X_test_scaled = scaler.transform(X_test)"
   ]
  },
  {
   "cell_type": "code",
   "execution_count": 176,
   "id": "2638cc76",
   "metadata": {},
   "outputs": [],
   "source": [
    "# Create a simple neural network model\n",
    "model = tf.keras.Sequential([\n",
    "    tf.keras.layers.Dense(64, activation='relu', input_shape=(4,)),\n",
    "    tf.keras.layers.Dense(3, activation='softmax')  # Output layer with 3 units for the 3 classes\n",
    "])"
   ]
  },
  {
   "cell_type": "code",
   "execution_count": 177,
   "id": "5db2c5b7",
   "metadata": {},
   "outputs": [],
   "source": [
    "# Compile the model\n",
    "model.compile(optimizer='adam', loss='sparse_categorical_crossentropy', metrics=['accuracy'])"
   ]
  },
  {
   "cell_type": "code",
   "execution_count": 178,
   "id": "224eeeab",
   "metadata": {},
   "outputs": [
    {
     "name": "stdout",
     "output_type": "stream",
     "text": [
      "Epoch 1/50\n",
      "4/4 [==============================] - 1s 88ms/step - loss: 1.0453 - accuracy: 0.3917 - val_loss: 0.9919 - val_accuracy: 0.5333\n",
      "Epoch 2/50\n",
      "4/4 [==============================] - 0s 18ms/step - loss: 0.9854 - accuracy: 0.5333 - val_loss: 0.9279 - val_accuracy: 0.7333\n",
      "Epoch 3/50\n",
      "4/4 [==============================] - 0s 16ms/step - loss: 0.9301 - accuracy: 0.6417 - val_loss: 0.8684 - val_accuracy: 0.7333\n",
      "Epoch 4/50\n",
      "4/4 [==============================] - 0s 17ms/step - loss: 0.8791 - accuracy: 0.7000 - val_loss: 0.8144 - val_accuracy: 0.7667\n",
      "Epoch 5/50\n",
      "4/4 [==============================] - 0s 17ms/step - loss: 0.8309 - accuracy: 0.7333 - val_loss: 0.7659 - val_accuracy: 0.8000\n",
      "Epoch 6/50\n",
      "4/4 [==============================] - 0s 17ms/step - loss: 0.7896 - accuracy: 0.7583 - val_loss: 0.7213 - val_accuracy: 0.8000\n",
      "Epoch 7/50\n",
      "4/4 [==============================] - 0s 19ms/step - loss: 0.7503 - accuracy: 0.7833 - val_loss: 0.6812 - val_accuracy: 0.8333\n",
      "Epoch 8/50\n",
      "4/4 [==============================] - 0s 17ms/step - loss: 0.7133 - accuracy: 0.8000 - val_loss: 0.6456 - val_accuracy: 0.8333\n",
      "Epoch 9/50\n",
      "4/4 [==============================] - 0s 19ms/step - loss: 0.6812 - accuracy: 0.8000 - val_loss: 0.6130 - val_accuracy: 0.8667\n",
      "Epoch 10/50\n",
      "4/4 [==============================] - 0s 16ms/step - loss: 0.6516 - accuracy: 0.8083 - val_loss: 0.5830 - val_accuracy: 0.8667\n",
      "Epoch 11/50\n",
      "4/4 [==============================] - 0s 17ms/step - loss: 0.6248 - accuracy: 0.8083 - val_loss: 0.5555 - val_accuracy: 0.8667\n",
      "Epoch 12/50\n",
      "4/4 [==============================] - 0s 18ms/step - loss: 0.5996 - accuracy: 0.8167 - val_loss: 0.5309 - val_accuracy: 0.9000\n",
      "Epoch 13/50\n",
      "4/4 [==============================] - 0s 17ms/step - loss: 0.5774 - accuracy: 0.8250 - val_loss: 0.5082 - val_accuracy: 0.9000\n",
      "Epoch 14/50\n",
      "4/4 [==============================] - 0s 17ms/step - loss: 0.5573 - accuracy: 0.8250 - val_loss: 0.4874 - val_accuracy: 0.9000\n",
      "Epoch 15/50\n",
      "4/4 [==============================] - 0s 20ms/step - loss: 0.5381 - accuracy: 0.8167 - val_loss: 0.4690 - val_accuracy: 0.9000\n",
      "Epoch 16/50\n",
      "4/4 [==============================] - 0s 17ms/step - loss: 0.5211 - accuracy: 0.8167 - val_loss: 0.4520 - val_accuracy: 0.9000\n",
      "Epoch 17/50\n",
      "4/4 [==============================] - 0s 17ms/step - loss: 0.5053 - accuracy: 0.8167 - val_loss: 0.4365 - val_accuracy: 0.9000\n",
      "Epoch 18/50\n",
      "4/4 [==============================] - 0s 16ms/step - loss: 0.4912 - accuracy: 0.8250 - val_loss: 0.4219 - val_accuracy: 0.9000\n",
      "Epoch 19/50\n",
      "4/4 [==============================] - 0s 17ms/step - loss: 0.4779 - accuracy: 0.8250 - val_loss: 0.4087 - val_accuracy: 0.9000\n",
      "Epoch 20/50\n",
      "4/4 [==============================] - 0s 17ms/step - loss: 0.4656 - accuracy: 0.8250 - val_loss: 0.3964 - val_accuracy: 0.9000\n",
      "Epoch 21/50\n",
      "4/4 [==============================] - 0s 16ms/step - loss: 0.4542 - accuracy: 0.8250 - val_loss: 0.3851 - val_accuracy: 0.9000\n",
      "Epoch 22/50\n",
      "4/4 [==============================] - 0s 18ms/step - loss: 0.4436 - accuracy: 0.8333 - val_loss: 0.3745 - val_accuracy: 0.9000\n",
      "Epoch 23/50\n",
      "4/4 [==============================] - 0s 17ms/step - loss: 0.4337 - accuracy: 0.8333 - val_loss: 0.3645 - val_accuracy: 0.9000\n",
      "Epoch 24/50\n",
      "4/4 [==============================] - 0s 17ms/step - loss: 0.4247 - accuracy: 0.8333 - val_loss: 0.3547 - val_accuracy: 0.9000\n",
      "Epoch 25/50\n",
      "4/4 [==============================] - 0s 19ms/step - loss: 0.4156 - accuracy: 0.8333 - val_loss: 0.3460 - val_accuracy: 0.9000\n",
      "Epoch 26/50\n",
      "4/4 [==============================] - 0s 17ms/step - loss: 0.4075 - accuracy: 0.8333 - val_loss: 0.3376 - val_accuracy: 0.9000\n",
      "Epoch 27/50\n",
      "4/4 [==============================] - 0s 20ms/step - loss: 0.4000 - accuracy: 0.8417 - val_loss: 0.3298 - val_accuracy: 0.9000\n",
      "Epoch 28/50\n",
      "4/4 [==============================] - 0s 16ms/step - loss: 0.3924 - accuracy: 0.8417 - val_loss: 0.3226 - val_accuracy: 0.9000\n",
      "Epoch 29/50\n",
      "4/4 [==============================] - 0s 18ms/step - loss: 0.3856 - accuracy: 0.8417 - val_loss: 0.3159 - val_accuracy: 0.9000\n",
      "Epoch 30/50\n",
      "4/4 [==============================] - 0s 18ms/step - loss: 0.3792 - accuracy: 0.8500 - val_loss: 0.3094 - val_accuracy: 0.9000\n",
      "Epoch 31/50\n",
      "4/4 [==============================] - 0s 15ms/step - loss: 0.3726 - accuracy: 0.8583 - val_loss: 0.3032 - val_accuracy: 0.9000\n",
      "Epoch 32/50\n",
      "4/4 [==============================] - 0s 18ms/step - loss: 0.3667 - accuracy: 0.8667 - val_loss: 0.2976 - val_accuracy: 0.9000\n",
      "Epoch 33/50\n",
      "4/4 [==============================] - 0s 19ms/step - loss: 0.3607 - accuracy: 0.8750 - val_loss: 0.2919 - val_accuracy: 0.9000\n",
      "Epoch 34/50\n",
      "4/4 [==============================] - 0s 16ms/step - loss: 0.3552 - accuracy: 0.8750 - val_loss: 0.2865 - val_accuracy: 0.9000\n",
      "Epoch 35/50\n",
      "4/4 [==============================] - 0s 19ms/step - loss: 0.3496 - accuracy: 0.8750 - val_loss: 0.2814 - val_accuracy: 0.9000\n",
      "Epoch 36/50\n",
      "4/4 [==============================] - 0s 17ms/step - loss: 0.3445 - accuracy: 0.8750 - val_loss: 0.2763 - val_accuracy: 0.9000\n",
      "Epoch 37/50\n",
      "4/4 [==============================] - 0s 19ms/step - loss: 0.3394 - accuracy: 0.8750 - val_loss: 0.2715 - val_accuracy: 0.9000\n",
      "Epoch 38/50\n",
      "4/4 [==============================] - 0s 17ms/step - loss: 0.3344 - accuracy: 0.8667 - val_loss: 0.2670 - val_accuracy: 0.9000\n",
      "Epoch 39/50\n",
      "4/4 [==============================] - 0s 16ms/step - loss: 0.3296 - accuracy: 0.8667 - val_loss: 0.2624 - val_accuracy: 0.9000\n",
      "Epoch 40/50\n",
      "4/4 [==============================] - 0s 18ms/step - loss: 0.3249 - accuracy: 0.8667 - val_loss: 0.2581 - val_accuracy: 0.9333\n",
      "Epoch 41/50\n",
      "4/4 [==============================] - 0s 17ms/step - loss: 0.3204 - accuracy: 0.8667 - val_loss: 0.2540 - val_accuracy: 0.9667\n",
      "Epoch 42/50\n",
      "4/4 [==============================] - 0s 16ms/step - loss: 0.3157 - accuracy: 0.8667 - val_loss: 0.2499 - val_accuracy: 0.9667\n",
      "Epoch 43/50\n",
      "4/4 [==============================] - 0s 17ms/step - loss: 0.3111 - accuracy: 0.8750 - val_loss: 0.2458 - val_accuracy: 0.9667\n",
      "Epoch 44/50\n",
      "4/4 [==============================] - 0s 16ms/step - loss: 0.3071 - accuracy: 0.8917 - val_loss: 0.2418 - val_accuracy: 0.9667\n",
      "Epoch 45/50\n",
      "4/4 [==============================] - 0s 19ms/step - loss: 0.3027 - accuracy: 0.9000 - val_loss: 0.2379 - val_accuracy: 0.9667\n",
      "Epoch 46/50\n",
      "4/4 [==============================] - 0s 17ms/step - loss: 0.2985 - accuracy: 0.9000 - val_loss: 0.2341 - val_accuracy: 0.9667\n",
      "Epoch 47/50\n",
      "4/4 [==============================] - 0s 18ms/step - loss: 0.2943 - accuracy: 0.9000 - val_loss: 0.2304 - val_accuracy: 0.9667\n",
      "Epoch 48/50\n",
      "4/4 [==============================] - 0s 17ms/step - loss: 0.2903 - accuracy: 0.9083 - val_loss: 0.2268 - val_accuracy: 0.9667\n",
      "Epoch 49/50\n",
      "4/4 [==============================] - 0s 17ms/step - loss: 0.2866 - accuracy: 0.9083 - val_loss: 0.2233 - val_accuracy: 0.9667\n",
      "Epoch 50/50\n",
      "4/4 [==============================] - 0s 18ms/step - loss: 0.2824 - accuracy: 0.9083 - val_loss: 0.2198 - val_accuracy: 0.9667\n"
     ]
    },
    {
     "data": {
      "text/plain": [
       "<keras.src.callbacks.History at 0x26dada0e910>"
      ]
     },
     "execution_count": 178,
     "metadata": {},
     "output_type": "execute_result"
    }
   ],
   "source": [
    "# Train the model\n",
    "model.fit(X_train_scaled, y_train, epochs=50, batch_size=32, validation_data=(X_test_scaled, y_test))\n"
   ]
  },
  {
   "cell_type": "code",
   "execution_count": 179,
   "id": "3b075668",
   "metadata": {},
   "outputs": [
    {
     "name": "stdout",
     "output_type": "stream",
     "text": [
      "1/1 [==============================] - 0s 37ms/step - loss: 0.2198 - accuracy: 0.9667\n",
      "Accuracy on the test set: 0.9666666388511658\n"
     ]
    }
   ],
   "source": [
    "# Evaluate the model on the test set\n",
    "accuracy = model.evaluate(X_test_scaled, y_test)[1]\n",
    "print(f\"Accuracy on the test set: {accuracy}\")"
   ]
  },
  {
   "cell_type": "markdown",
   "id": "14f2d344",
   "metadata": {},
   "source": [
    "# Conclusion"
   ]
  },
  {
   "cell_type": "markdown",
   "id": "6f630b5a",
   "metadata": {},
   "source": [
    "### For the Iris dataset 🌸 traditionally used for classification, attempting regression is less common. If pursuing regression, consider traditional models like Linear Regression or Support Vector Regression, and experiment with TensorFlow by modifying neural network architecture. Evaluate and choose the model that best fits the specific goals and characteristics of your dataset. I have built 6 regression models using Iris Dataset. These are linear, lasso,  svr, decision tree and random forest regression, logistic regression. Then measured and visualized the performance of the models.  thank you. 📊🤖"
   ]
  }
 ],
 "metadata": {
  "kernelspec": {
   "display_name": "Python 3 (ipykernel)",
   "language": "python",
   "name": "python3"
  },
  "language_info": {
   "codemirror_mode": {
    "name": "ipython",
    "version": 3
   },
   "file_extension": ".py",
   "mimetype": "text/x-python",
   "name": "python",
   "nbconvert_exporter": "python",
   "pygments_lexer": "ipython3",
   "version": "3.11.4"
  }
 },
 "nbformat": 4,
 "nbformat_minor": 5
}
