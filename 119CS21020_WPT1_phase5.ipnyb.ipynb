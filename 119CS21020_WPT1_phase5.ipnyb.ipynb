{
 "cells": [
  {
   "cell_type": "markdown",
   "id": "4dfce541",
   "metadata": {},
   "source": [
    " # MINI PROJECT ACTIVITY\n",
    "## PROJECT TITLE : IRIS DATASET [Phase-5]"
   ]
  },
  {
   "cell_type": "markdown",
   "id": "da768ba5",
   "metadata": {},
   "source": [
    "# Classification"
   ]
  },
  {
   "cell_type": "code",
   "execution_count": 2,
   "id": "280fe2da",
   "metadata": {},
   "outputs": [],
   "source": [
    "import numpy as np\n",
    "import pandas as pd\n",
    "import warnings\n",
    "from sklearn.model_selection import train_test_split\n",
    "from sklearn.tree import DecisionTreeClassifier\n",
    "from sklearn.neighbors import KNeighborsClassifier\n",
    "from sklearn.linear_model import LogisticRegression\n",
    "from sklearn.ensemble import VotingClassifier\n",
    "from sklearn import metrics\n",
    "from sklearn.datasets import load_iris  # Import the Iris dataset\n",
    "warnings.filterwarnings(action='ignore')  # Turn off the warnings."
   ]
  },
  {
   "cell_type": "code",
   "execution_count": 24,
   "id": "fd1a0e74",
   "metadata": {},
   "outputs": [],
   "source": [
    "# Load the Iris dataset\n",
    "iris = load_iris()"
   ]
  },
  {
   "cell_type": "code",
   "execution_count": 25,
   "id": "62f73ad3",
   "metadata": {},
   "outputs": [],
   "source": [
    "X = iris.data\n",
    "y = iris.target"
   ]
  },
  {
   "cell_type": "code",
   "execution_count": 5,
   "id": "6ef4b53f",
   "metadata": {},
   "outputs": [],
   "source": [
    "# Split the dataset into training and testing sets\n",
    "X_train, X_test, y_train, y_test = train_test_split(X, y, test_size=0.2, random_state=42)\n"
   ]
  },
  {
   "cell_type": "markdown",
   "id": "7e704dea",
   "metadata": {},
   "source": [
    "# Classification Tree"
   ]
  },
  {
   "cell_type": "code",
   "execution_count": 6,
   "id": "d7c0a3e0",
   "metadata": {},
   "outputs": [
    {
     "name": "stdout",
     "output_type": "stream",
     "text": [
      "Tree accuracy: 1.0\n"
     ]
    }
   ],
   "source": [
    "# Classification Tree\n",
    "DTC = DecisionTreeClassifier(max_depth=10)\n",
    "DTC.fit(X_train, y_train)\n",
    "y_pred = DTC.predict(X_test)\n",
    "\n",
    "# Calculate and print the accuracy of the classifier\n",
    "accuracy = metrics.accuracy_score(y_test, y_pred)\n",
    "print(\"Tree accuracy:\", np.round(accuracy, 3))"
   ]
  },
  {
   "cell_type": "markdown",
   "id": "4c3c498a",
   "metadata": {},
   "source": [
    "# Classification with KNN"
   ]
  },
  {
   "cell_type": "code",
   "execution_count": 7,
   "id": "eafefdc0",
   "metadata": {},
   "outputs": [
    {
     "name": "stdout",
     "output_type": "stream",
     "text": [
      "KNN accuracy: 1.0\n"
     ]
    }
   ],
   "source": [
    "# Classification with KNN\n",
    "KNN = KNeighborsClassifier(n_neighbors=5)\n",
    "KNN.fit(X_train, y_train)\n",
    "y_pred = KNN.predict(X_test)\n",
    "\n",
    "# Calculate and print the accuracy of the classifier\n",
    "accuracy = metrics.accuracy_score(y_test, y_pred)\n",
    "print(\"KNN accuracy:\", np.round(accuracy, 3))"
   ]
  },
  {
   "cell_type": "markdown",
   "id": "cd06b2f1",
   "metadata": {},
   "source": [
    "# Classification with Logistic Regression"
   ]
  },
  {
   "cell_type": "code",
   "execution_count": 8,
   "id": "046c557a",
   "metadata": {},
   "outputs": [
    {
     "name": "stdout",
     "output_type": "stream",
     "text": [
      "Logistic Regression accuracy: 1.0\n"
     ]
    }
   ],
   "source": [
    "# Classification with Logistic Regression\n",
    "LR = LogisticRegression()\n",
    "LR.fit(X_train, y_train)\n",
    "y_pred = LR.predict(X_test)\n",
    "\n",
    "# Calculate and print the accuracy of the classifier\n",
    "accuracy = metrics.accuracy_score(y_test, y_pred)\n",
    "print(\"Logistic Regression accuracy:\", np.round(accuracy, 3))"
   ]
  },
  {
   "cell_type": "markdown",
   "id": "8e582107",
   "metadata": {},
   "source": [
    "# Predicting with a voting ensemble:¶"
   ]
  },
  {
   "cell_type": "code",
   "execution_count": 9,
   "id": "d70dfde7",
   "metadata": {},
   "outputs": [
    {
     "name": "stdout",
     "output_type": "stream",
     "text": [
      "Voting Classifier Accuracy: 1.0\n"
     ]
    }
   ],
   "source": [
    "# Voting Classifier\n",
    "VC = VotingClassifier(estimators=[('Tree', DTC), ('knn', KNN), ('Logistic', LR)], voting='hard')\n",
    "VC.fit(X_train, y_train)\n",
    "y_pred = VC.predict(X_test)\n",
    "\n",
    "# Calculate and print the accuracy of the Voting Classifier\n",
    "accuracy = metrics.accuracy_score(y_test, y_pred)\n",
    "print(\"Voting Classifier Accuracy:\", np.round(accuracy, 3))"
   ]
  },
  {
   "cell_type": "code",
   "execution_count": 10,
   "id": "b4de5945",
   "metadata": {},
   "outputs": [
    {
     "name": "stdout",
     "output_type": "stream",
     "text": [
      "Voting Classifier Accuracy: 1.0\n"
     ]
    }
   ],
   "source": [
    "# Voting Classifier\n",
    "VC = VotingClassifier(estimators=[('Tree', DTC), ('knn', KNN), ('Logistic', LR)], voting='hard')\n",
    "VC.fit(X_train, y_train)\n",
    "y_pred = VC.predict(X_test)\n",
    "\n",
    "# Calculate and print the accuracy of the Voting Classifier\n",
    "accuracy = metrics.accuracy_score(y_test, y_pred)\n",
    "print(\"Voting Classifier Accuracy:\", np.round(accuracy, 3))"
   ]
  },
  {
   "cell_type": "markdown",
   "id": "08d7d939",
   "metadata": {},
   "source": [
    "# Multi-class Classification"
   ]
  },
  {
   "cell_type": "markdown",
   "id": "b8dc0b5a",
   "metadata": {},
   "source": [
    "## Evaluation Metrics for Classification"
   ]
  },
  {
   "cell_type": "code",
   "execution_count": 18,
   "id": "4b1c6924",
   "metadata": {},
   "outputs": [],
   "source": [
    "from sklearn.metrics import accuracy_score, classification_report, confusion_matrix\n",
    "from sklearn.preprocessing import LabelEncoder"
   ]
  },
  {
   "cell_type": "code",
   "execution_count": 19,
   "id": "320494c1",
   "metadata": {},
   "outputs": [],
   "source": [
    "# Encode target labels if needed\n",
    "label_encoder = LabelEncoder()\n",
    "y = label_encoder.fit_transform(y)"
   ]
  },
  {
   "cell_type": "code",
   "execution_count": 20,
   "id": "33ceed24",
   "metadata": {},
   "outputs": [],
   "source": [
    "# Evaluate the model\n",
    "accuracy = accuracy_score(y_test, y_pred)\n",
    "conf_matrix = confusion_matrix(y_test, y_pred)\n",
    "classification_rep = classification_report(y_test, y_pred)\n"
   ]
  },
  {
   "cell_type": "code",
   "execution_count": 21,
   "id": "89182c4a",
   "metadata": {},
   "outputs": [
    {
     "name": "stdout",
     "output_type": "stream",
     "text": [
      "Accuracy: 1.0000\n"
     ]
    }
   ],
   "source": [
    "# Print the evaluation metrics\n",
    "print(f\"Accuracy: {accuracy:.4f}\")"
   ]
  },
  {
   "cell_type": "code",
   "execution_count": 22,
   "id": "99fc8f25",
   "metadata": {},
   "outputs": [
    {
     "name": "stdout",
     "output_type": "stream",
     "text": [
      "\n",
      "Confusion Matrix:\n",
      "[[10  0  0]\n",
      " [ 0  9  0]\n",
      " [ 0  0 11]]\n"
     ]
    }
   ],
   "source": [
    "print(\"\\nConfusion Matrix:\")\n",
    "print(conf_matrix)"
   ]
  },
  {
   "cell_type": "code",
   "execution_count": 23,
   "id": "376021e0",
   "metadata": {},
   "outputs": [
    {
     "name": "stdout",
     "output_type": "stream",
     "text": [
      "\n",
      "Classification Report:\n",
      "              precision    recall  f1-score   support\n",
      "\n",
      "           0       1.00      1.00      1.00        10\n",
      "           1       1.00      1.00      1.00         9\n",
      "           2       1.00      1.00      1.00        11\n",
      "\n",
      "    accuracy                           1.00        30\n",
      "   macro avg       1.00      1.00      1.00        30\n",
      "weighted avg       1.00      1.00      1.00        30\n",
      "\n"
     ]
    }
   ],
   "source": [
    "print(\"\\nClassification Report:\")\n",
    "print(classification_rep)"
   ]
  },
  {
   "cell_type": "markdown",
   "id": "dbd3034f",
   "metadata": {},
   "source": [
    "### Built and evaluated 6 regression models 🌸🤖 (Linear, Lasso, SVR, Decision Tree, Random Forest, Logistic) on the Iris dataset. Explored diverse algorithms to capture relationships. 📊Chose the best-performing model based on metrics like MSE or R-squared. For classification, leveraged common algorithms (Decision Trees, Random Forests, SVMs, k-NN) on Iris, focusing on metrics such as accuracy, precision, recall, and F1-score. 🌐🔍 Evaluated and selected the most suitable model for the classification task. 🏆"
   ]
  }
 ],
 "metadata": {
  "kernelspec": {
   "display_name": "Python 3 (ipykernel)",
   "language": "python",
   "name": "python3"
  },
  "language_info": {
   "codemirror_mode": {
    "name": "ipython",
    "version": 3
   },
   "file_extension": ".py",
   "mimetype": "text/x-python",
   "name": "python",
   "nbconvert_exporter": "python",
   "pygments_lexer": "ipython3",
   "version": "3.11.4"
  }
 },
 "nbformat": 4,
 "nbformat_minor": 5
}
